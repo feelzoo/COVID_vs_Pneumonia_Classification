{
 "cells": [
  {
   "cell_type": "markdown",
   "metadata": {},
   "source": [
    "# Covid - Pneunmonia Classfication Model from X-ray images"
   ]
  },
  {
   "cell_type": "markdown",
   "metadata": {},
   "source": [
    "In this project, I will develop a deep learning model that can support doctors with diagnosing lung illnesses.  "
   ]
  },
  {
   "cell_type": "code",
   "execution_count": 147,
   "metadata": {},
   "outputs": [],
   "source": [
    "import pandas as pd\n",
    "import numpy as np\n",
    "import seaborn as sns\n",
    "from matplotlib import pyplot as plt\n",
    "import tensorflow as tf\n",
    "from tensorflow import keras\n",
    "from tensorflow.keras.models import Sequential\n",
    "from tensorflow.keras.preprocessing.image import ImageDataGenerator\n",
    "from tensorflow.keras.callbacks import EarlyStopping\n",
    "from tensorflow.keras.layers import InputLayer\n",
    "from tensorflow.keras import Input\n",
    "from tensorflow.keras.layers import Flatten\n",
    "from tensorflow.keras.layers import Dense\n",
    "from tensorflow.keras.layers import Conv2D\n",
    "from tensorflow.keras.layers import MaxPooling2D"
   ]
  },
  {
   "cell_type": "code",
   "execution_count": 148,
   "metadata": {},
   "outputs": [],
   "source": [
    "training_data_generator = ImageDataGenerator(rescale = 1.0/255,zoom_range =.2,rotation_range =15,width_shift_range = .05,height_shift_range=.05)"
   ]
  },
  {
   "cell_type": "code",
   "execution_count": 149,
   "metadata": {},
   "outputs": [],
   "source": [
    "DIRECTORY = \"/Users/PJMoon/Data_Science_Projects/Covid_Pneumonia_Classification/Covid19-dataset/train/\"\n",
    "DIRECTORY2 = \"/Users/PJMoon/Data_Science_Projects/Covid_Pneumonia_Classification/Covid19-dataset/test/\"\n",
    "CLASS_MODE = \"categorical\"\n",
    "COLOR_MODE = \"grayscale\"\n",
    "TARGET_SIZE = (256,256)\n",
    "BATCH_SIZE = 50"
   ]
  },
  {
   "cell_type": "code",
   "execution_count": 150,
   "metadata": {
    "scrolled": false
   },
   "outputs": [
    {
     "name": "stdout",
     "output_type": "stream",
     "text": [
      "Found 251 images belonging to 3 classes.\n"
     ]
    }
   ],
   "source": [
    "training_iterator = training_data_generator.flow_from_directory(DIRECTORY,class_mode=CLASS_MODE,color_mode=COLOR_MODE,target_size=TARGET_SIZE,batch_size=BATCH_SIZE)"
   ]
  },
  {
   "cell_type": "code",
   "execution_count": 151,
   "metadata": {},
   "outputs": [],
   "source": [
    "validation_data_generator = ImageDataGenerator(rescale=1.0/255)"
   ]
  },
  {
   "cell_type": "code",
   "execution_count": 152,
   "metadata": {},
   "outputs": [
    {
     "name": "stdout",
     "output_type": "stream",
     "text": [
      "Found 66 images belonging to 3 classes.\n"
     ]
    }
   ],
   "source": [
    "validation_iterator= validation_data_generator.flow_from_directory(DIRECTORY2,class_mode=CLASS_MODE,color_mode = COLOR_MODE, batch_size=BATCH_SIZE)"
   ]
  },
  {
   "cell_type": "code",
   "execution_count": 153,
   "metadata": {},
   "outputs": [],
   "source": [
    "model = Sequential()"
   ]
  },
  {
   "cell_type": "code",
   "execution_count": 154,
   "metadata": {},
   "outputs": [],
   "source": [
    "model.add(InputLayer(input_shape=(256,256,1)))\n",
    "\n",
    "#create a convolutional layer\n",
    "model.add(Conv2D(16,7,activation = 'relu',strides = 3,padding='same'))\n",
    "model.add(MaxPooling2D(pool_size=(5,5),strides=(5,5)))\n",
    "model.add(Conv2D(16,7,activation='relu',strides = 1,padding='same'))\n",
    "model.add(MaxPooling2D(pool_size=(2,2),strides = (2,2)))\n",
    "model.add(Flatten())\n",
    "model.add(Dense(3,activation='softmax'))"
   ]
  },
  {
   "cell_type": "code",
   "execution_count": 155,
   "metadata": {},
   "outputs": [
    {
     "data": {
      "text/plain": [
       "12560"
      ]
     },
     "execution_count": 155,
     "metadata": {},
     "output_type": "execute_result"
    }
   ],
   "source": [
    "785*16"
   ]
  },
  {
   "cell_type": "code",
   "execution_count": 156,
   "metadata": {},
   "outputs": [
    {
     "name": "stdout",
     "output_type": "stream",
     "text": [
      "Model: \"sequential_10\"\n",
      "_________________________________________________________________\n",
      "Layer (type)                 Output Shape              Param #   \n",
      "=================================================================\n",
      "conv2d_24 (Conv2D)           (None, 86, 86, 16)        800       \n",
      "_________________________________________________________________\n",
      "max_pooling2d_16 (MaxPooling (None, 17, 17, 16)        0         \n",
      "_________________________________________________________________\n",
      "conv2d_25 (Conv2D)           (None, 17, 17, 16)        12560     \n",
      "_________________________________________________________________\n",
      "max_pooling2d_17 (MaxPooling (None, 8, 8, 16)          0         \n",
      "_________________________________________________________________\n",
      "flatten_10 (Flatten)         (None, 1024)              0         \n",
      "_________________________________________________________________\n",
      "dense_8 (Dense)              (None, 3)                 3075      \n",
      "=================================================================\n",
      "Total params: 16,435\n",
      "Trainable params: 16,435\n",
      "Non-trainable params: 0\n",
      "_________________________________________________________________\n"
     ]
    }
   ],
   "source": [
    "model.summary()"
   ]
  },
  {
   "cell_type": "code",
   "execution_count": 157,
   "metadata": {},
   "outputs": [],
   "source": [
    "optimizer = tf.keras.optimizers.Adam(learning_rate=.005)"
   ]
  },
  {
   "cell_type": "code",
   "execution_count": 158,
   "metadata": {},
   "outputs": [],
   "source": [
    "loss = tf.keras.losses.CategoricalCrossentropy()"
   ]
  },
  {
   "cell_type": "code",
   "execution_count": 159,
   "metadata": {},
   "outputs": [],
   "source": [
    "es = EarlyStopping(monitor='val_auc', mode='max', verbose=1, patience=20)"
   ]
  },
  {
   "cell_type": "code",
   "execution_count": 160,
   "metadata": {},
   "outputs": [],
   "source": [
    "model.compile(optimizer = optimizer, loss = loss, metrics =[tf.keras.metrics.CategoricalAccuracy(),tf.keras.metrics.AUC()])"
   ]
  },
  {
   "cell_type": "code",
   "execution_count": 161,
   "metadata": {},
   "outputs": [
    {
     "name": "stdout",
     "output_type": "stream",
     "text": [
      "Epoch 1/100\n",
      "5/5 [==============================] - 3s 518ms/step - loss: 1.1530 - categorical_accuracy: 0.2869 - auc_6: 0.5376 - val_loss: 1.0911 - val_categorical_accuracy: 0.3333 - val_auc_6: 0.5785\n",
      "Epoch 2/100\n",
      "5/5 [==============================] - 2s 359ms/step - loss: 1.0934 - categorical_accuracy: 0.3665 - auc_6: 0.5755 - val_loss: 1.0855 - val_categorical_accuracy: 0.5758 - val_auc_6: 0.6598\n",
      "Epoch 3/100\n",
      "5/5 [==============================] - 2s 535ms/step - loss: 1.0831 - categorical_accuracy: 0.4422 - auc_6: 0.6829 - val_loss: 1.0865 - val_categorical_accuracy: 0.4545 - val_auc_6: 0.6553\n",
      "Epoch 4/100\n",
      "5/5 [==============================] - 2s 469ms/step - loss: 1.0733 - categorical_accuracy: 0.5657 - auc_6: 0.6656 - val_loss: 1.0730 - val_categorical_accuracy: 0.3030 - val_auc_6: 0.6248\n",
      "Epoch 5/100\n",
      "5/5 [==============================] - 2s 393ms/step - loss: 1.0562 - categorical_accuracy: 0.5259 - auc_6: 0.6442 - val_loss: 1.0113 - val_categorical_accuracy: 0.5455 - val_auc_6: 0.6772\n",
      "Epoch 6/100\n",
      "5/5 [==============================] - 2s 418ms/step - loss: 0.9476 - categorical_accuracy: 0.6414 - auc_6: 0.7466 - val_loss: 0.8212 - val_categorical_accuracy: 0.8333 - val_auc_6: 0.9218\n",
      "Epoch 7/100\n",
      "5/5 [==============================] - 2s 401ms/step - loss: 0.8110 - categorical_accuracy: 0.6853 - auc_6: 0.8412 - val_loss: 0.7119 - val_categorical_accuracy: 0.7576 - val_auc_6: 0.9097\n",
      "Epoch 8/100\n",
      "5/5 [==============================] - 2s 391ms/step - loss: 0.6960 - categorical_accuracy: 0.6892 - auc_6: 0.8712 - val_loss: 0.6607 - val_categorical_accuracy: 0.6970 - val_auc_6: 0.8861\n",
      "Epoch 9/100\n",
      "5/5 [==============================] - 2s 383ms/step - loss: 0.7316 - categorical_accuracy: 0.6494 - auc_6: 0.8580 - val_loss: 0.5203 - val_categorical_accuracy: 0.8182 - val_auc_6: 0.9279\n",
      "Epoch 10/100\n",
      "5/5 [==============================] - 2s 385ms/step - loss: 0.7036 - categorical_accuracy: 0.6892 - auc_6: 0.8705 - val_loss: 0.5261 - val_categorical_accuracy: 0.7273 - val_auc_6: 0.9266\n",
      "Epoch 11/100\n",
      "5/5 [==============================] - 2s 368ms/step - loss: 0.7169 - categorical_accuracy: 0.7171 - auc_6: 0.8720 - val_loss: 0.8896 - val_categorical_accuracy: 0.6061 - val_auc_6: 0.7785\n",
      "Epoch 12/100\n",
      "5/5 [==============================] - 2s 386ms/step - loss: 0.9951 - categorical_accuracy: 0.6255 - auc_6: 0.7744 - val_loss: 0.8308 - val_categorical_accuracy: 0.7121 - val_auc_6: 0.8198\n",
      "Epoch 13/100\n",
      "5/5 [==============================] - 2s 391ms/step - loss: 0.7366 - categorical_accuracy: 0.6693 - auc_6: 0.8511 - val_loss: 0.6388 - val_categorical_accuracy: 0.7424 - val_auc_6: 0.9170\n",
      "Epoch 14/100\n",
      "5/5 [==============================] - 2s 400ms/step - loss: 0.6299 - categorical_accuracy: 0.7371 - auc_6: 0.9023 - val_loss: 0.5698 - val_categorical_accuracy: 0.8485 - val_auc_6: 0.9481\n",
      "Epoch 15/100\n",
      "5/5 [==============================] - 2s 397ms/step - loss: 0.6389 - categorical_accuracy: 0.7171 - auc_6: 0.8918 - val_loss: 0.5639 - val_categorical_accuracy: 0.7879 - val_auc_6: 0.9364\n",
      "Epoch 16/100\n",
      "5/5 [==============================] - 2s 389ms/step - loss: 0.6087 - categorical_accuracy: 0.7570 - auc_6: 0.9006 - val_loss: 0.5921 - val_categorical_accuracy: 0.7121 - val_auc_6: 0.9051\n",
      "Epoch 17/100\n",
      "5/5 [==============================] - 2s 390ms/step - loss: 0.7126 - categorical_accuracy: 0.7092 - auc_6: 0.8680 - val_loss: 1.0735 - val_categorical_accuracy: 0.5909 - val_auc_6: 0.8192\n",
      "Epoch 18/100\n",
      "5/5 [==============================] - 2s 389ms/step - loss: 0.6086 - categorical_accuracy: 0.7371 - auc_6: 0.9015 - val_loss: 0.5199 - val_categorical_accuracy: 0.7727 - val_auc_6: 0.9327\n",
      "Epoch 19/100\n",
      "5/5 [==============================] - 2s 385ms/step - loss: 0.5742 - categorical_accuracy: 0.7331 - auc_6: 0.9054 - val_loss: 0.5626 - val_categorical_accuracy: 0.6970 - val_auc_6: 0.9132\n",
      "Epoch 20/100\n",
      "5/5 [==============================] - 2s 451ms/step - loss: 0.5002 - categorical_accuracy: 0.7769 - auc_6: 0.9345 - val_loss: 0.5091 - val_categorical_accuracy: 0.8182 - val_auc_6: 0.9370\n",
      "Epoch 21/100\n",
      "5/5 [==============================] - 3s 523ms/step - loss: 0.5903 - categorical_accuracy: 0.7689 - auc_6: 0.9082 - val_loss: 0.5869 - val_categorical_accuracy: 0.6818 - val_auc_6: 0.8919\n",
      "Epoch 22/100\n",
      "5/5 [==============================] - 2s 546ms/step - loss: 0.5125 - categorical_accuracy: 0.7888 - auc_6: 0.9266 - val_loss: 0.6269 - val_categorical_accuracy: 0.7424 - val_auc_6: 0.8925\n",
      "Epoch 23/100\n",
      "5/5 [==============================] - 2s 388ms/step - loss: 0.5478 - categorical_accuracy: 0.7570 - auc_6: 0.9154 - val_loss: 0.5330 - val_categorical_accuracy: 0.7273 - val_auc_6: 0.9128\n",
      "Epoch 24/100\n",
      "5/5 [==============================] - 2s 410ms/step - loss: 0.6375 - categorical_accuracy: 0.7331 - auc_6: 0.8973 - val_loss: 0.6330 - val_categorical_accuracy: 0.6515 - val_auc_6: 0.8826\n",
      "Epoch 25/100\n",
      "5/5 [==============================] - 2s 391ms/step - loss: 0.6884 - categorical_accuracy: 0.7131 - auc_6: 0.8843 - val_loss: 0.5581 - val_categorical_accuracy: 0.7273 - val_auc_6: 0.9135\n",
      "Epoch 26/100\n",
      "5/5 [==============================] - 2s 516ms/step - loss: 0.5307 - categorical_accuracy: 0.7211 - auc_6: 0.9234 - val_loss: 0.5472 - val_categorical_accuracy: 0.7576 - val_auc_6: 0.9302\n",
      "Epoch 27/100\n",
      "5/5 [==============================] - 3s 539ms/step - loss: 0.5065 - categorical_accuracy: 0.8367 - auc_6: 0.9406 - val_loss: 0.6023 - val_categorical_accuracy: 0.7273 - val_auc_6: 0.9029\n",
      "Epoch 28/100\n",
      "5/5 [==============================] - 3s 500ms/step - loss: 0.4971 - categorical_accuracy: 0.8247 - auc_6: 0.9427 - val_loss: 0.8715 - val_categorical_accuracy: 0.6061 - val_auc_6: 0.7862\n",
      "Epoch 29/100\n",
      "5/5 [==============================] - 2s 391ms/step - loss: 0.7510 - categorical_accuracy: 0.6932 - auc_6: 0.8493 - val_loss: 0.8421 - val_categorical_accuracy: 0.6061 - val_auc_6: 0.7850\n",
      "Epoch 30/100\n",
      "5/5 [==============================] - 2s 381ms/step - loss: 0.6560 - categorical_accuracy: 0.7211 - auc_6: 0.8852 - val_loss: 0.7853 - val_categorical_accuracy: 0.5909 - val_auc_6: 0.8067\n",
      "Epoch 31/100\n",
      "5/5 [==============================] - 2s 394ms/step - loss: 0.6613 - categorical_accuracy: 0.7251 - auc_6: 0.8850 - val_loss: 0.7480 - val_categorical_accuracy: 0.5758 - val_auc_6: 0.8271\n",
      "Epoch 32/100\n",
      "5/5 [==============================] - 2s 394ms/step - loss: 0.6452 - categorical_accuracy: 0.7251 - auc_6: 0.8904 - val_loss: 0.6141 - val_categorical_accuracy: 0.7273 - val_auc_6: 0.9051\n",
      "Epoch 33/100\n",
      "5/5 [==============================] - 2s 436ms/step - loss: 0.5075 - categorical_accuracy: 0.8127 - auc_6: 0.9316 - val_loss: 0.6144 - val_categorical_accuracy: 0.7121 - val_auc_6: 0.8995\n",
      "Epoch 34/100\n",
      "5/5 [==============================] - 2s 484ms/step - loss: 0.4482 - categorical_accuracy: 0.8207 - auc_6: 0.9474 - val_loss: 0.7144 - val_categorical_accuracy: 0.5758 - val_auc_6: 0.8542\n",
      "Epoch 35/100\n",
      "5/5 [==============================] - 2s 430ms/step - loss: 0.3982 - categorical_accuracy: 0.8526 - auc_6: 0.9581 - val_loss: 0.5111 - val_categorical_accuracy: 0.8485 - val_auc_6: 0.9368\n",
      "Epoch 36/100\n",
      "5/5 [==============================] - 2s 394ms/step - loss: 0.3269 - categorical_accuracy: 0.8805 - auc_6: 0.9718 - val_loss: 0.5099 - val_categorical_accuracy: 0.7879 - val_auc_6: 0.9323\n",
      "Epoch 37/100\n",
      "5/5 [==============================] - 2s 515ms/step - loss: 0.3322 - categorical_accuracy: 0.8685 - auc_6: 0.9700 - val_loss: 0.7090 - val_categorical_accuracy: 0.6667 - val_auc_6: 0.8743\n",
      "Epoch 38/100\n",
      "5/5 [==============================] - 3s 503ms/step - loss: 0.4636 - categorical_accuracy: 0.8207 - auc_6: 0.9438 - val_loss: 0.5173 - val_categorical_accuracy: 0.7879 - val_auc_6: 0.9229\n",
      "Epoch 39/100\n",
      "5/5 [==============================] - 2s 572ms/step - loss: 0.3981 - categorical_accuracy: 0.8446 - auc_6: 0.9562 - val_loss: 0.5513 - val_categorical_accuracy: 0.7424 - val_auc_6: 0.9195\n",
      "Epoch 40/100\n",
      "5/5 [==============================] - 3s 646ms/step - loss: 0.5640 - categorical_accuracy: 0.7968 - auc_6: 0.9256 - val_loss: 0.7964 - val_categorical_accuracy: 0.6515 - val_auc_6: 0.8613\n",
      "Epoch 41/100\n"
     ]
    },
    {
     "name": "stdout",
     "output_type": "stream",
     "text": [
      "5/5 [==============================] - 2s 418ms/step - loss: 0.5140 - categorical_accuracy: 0.7928 - auc_6: 0.9340 - val_loss: 0.5913 - val_categorical_accuracy: 0.6061 - val_auc_6: 0.8878\n",
      "Epoch 42/100\n",
      "5/5 [==============================] - 2s 392ms/step - loss: 0.4141 - categorical_accuracy: 0.8406 - auc_6: 0.9557 - val_loss: 0.5474 - val_categorical_accuracy: 0.8333 - val_auc_6: 0.9245\n",
      "Epoch 43/100\n",
      "5/5 [==============================] - 2s 379ms/step - loss: 0.3341 - categorical_accuracy: 0.8725 - auc_6: 0.9727 - val_loss: 0.6562 - val_categorical_accuracy: 0.7121 - val_auc_6: 0.8809\n",
      "Epoch 44/100\n",
      "5/5 [==============================] - 2s 378ms/step - loss: 0.6209 - categorical_accuracy: 0.7809 - auc_6: 0.8976 - val_loss: 0.9265 - val_categorical_accuracy: 0.5000 - val_auc_6: 0.7420\n",
      "Epoch 45/100\n",
      "5/5 [==============================] - 2s 480ms/step - loss: 0.6053 - categorical_accuracy: 0.7649 - auc_6: 0.9033 - val_loss: 0.6074 - val_categorical_accuracy: 0.6818 - val_auc_6: 0.8879\n",
      "Epoch 46/100\n",
      "5/5 [==============================] - 2s 392ms/step - loss: 0.3908 - categorical_accuracy: 0.8287 - auc_6: 0.9584 - val_loss: 0.5312 - val_categorical_accuracy: 0.7424 - val_auc_6: 0.9230\n",
      "Epoch 47/100\n",
      "5/5 [==============================] - 2s 390ms/step - loss: 0.3243 - categorical_accuracy: 0.8924 - auc_6: 0.9699 - val_loss: 0.5562 - val_categorical_accuracy: 0.8182 - val_auc_6: 0.9323\n",
      "Epoch 48/100\n",
      "5/5 [==============================] - 2s 379ms/step - loss: 0.3465 - categorical_accuracy: 0.8486 - auc_6: 0.9669 - val_loss: 0.4636 - val_categorical_accuracy: 0.8333 - val_auc_6: 0.9521\n",
      "Epoch 49/100\n",
      "5/5 [==============================] - 2s 395ms/step - loss: 0.3216 - categorical_accuracy: 0.8725 - auc_6: 0.9699 - val_loss: 0.6840 - val_categorical_accuracy: 0.6818 - val_auc_6: 0.8911\n",
      "Epoch 50/100\n",
      "5/5 [==============================] - 2s 371ms/step - loss: 0.3297 - categorical_accuracy: 0.8645 - auc_6: 0.9703 - val_loss: 0.4699 - val_categorical_accuracy: 0.8182 - val_auc_6: 0.9400\n",
      "Epoch 51/100\n",
      "5/5 [==============================] - 2s 386ms/step - loss: 0.3513 - categorical_accuracy: 0.8367 - auc_6: 0.9663 - val_loss: 0.4240 - val_categorical_accuracy: 0.8333 - val_auc_6: 0.9545\n",
      "Epoch 52/100\n",
      "5/5 [==============================] - 2s 378ms/step - loss: 0.2797 - categorical_accuracy: 0.9004 - auc_6: 0.9770 - val_loss: 0.4648 - val_categorical_accuracy: 0.7576 - val_auc_6: 0.9338\n",
      "Epoch 53/100\n",
      "5/5 [==============================] - 2s 390ms/step - loss: 0.2799 - categorical_accuracy: 0.8725 - auc_6: 0.9782 - val_loss: 0.3861 - val_categorical_accuracy: 0.8182 - val_auc_6: 0.9565\n",
      "Epoch 54/100\n",
      "5/5 [==============================] - 2s 463ms/step - loss: 0.2373 - categorical_accuracy: 0.9203 - auc_6: 0.9843 - val_loss: 0.3650 - val_categorical_accuracy: 0.8182 - val_auc_6: 0.9628\n",
      "Epoch 55/100\n",
      "5/5 [==============================] - 2s 391ms/step - loss: 0.2152 - categorical_accuracy: 0.9203 - auc_6: 0.9875 - val_loss: 0.3459 - val_categorical_accuracy: 0.8333 - val_auc_6: 0.9669\n",
      "Epoch 56/100\n",
      "5/5 [==============================] - 2s 397ms/step - loss: 0.2104 - categorical_accuracy: 0.9243 - auc_6: 0.9864 - val_loss: 0.4799 - val_categorical_accuracy: 0.8333 - val_auc_6: 0.9405\n",
      "Epoch 57/100\n",
      "5/5 [==============================] - 2s 480ms/step - loss: 0.2349 - categorical_accuracy: 0.8805 - auc_6: 0.9836 - val_loss: 0.3678 - val_categorical_accuracy: 0.8485 - val_auc_6: 0.9606\n",
      "Epoch 58/100\n",
      "5/5 [==============================] - 2s 389ms/step - loss: 0.2362 - categorical_accuracy: 0.9124 - auc_6: 0.9839 - val_loss: 0.4059 - val_categorical_accuracy: 0.8333 - val_auc_6: 0.9566\n",
      "Epoch 59/100\n",
      "5/5 [==============================] - 2s 383ms/step - loss: 0.2476 - categorical_accuracy: 0.8924 - auc_6: 0.9816 - val_loss: 0.4034 - val_categorical_accuracy: 0.8485 - val_auc_6: 0.9564\n",
      "Epoch 60/100\n",
      "5/5 [==============================] - 2s 392ms/step - loss: 0.2259 - categorical_accuracy: 0.8964 - auc_6: 0.9855 - val_loss: 0.3755 - val_categorical_accuracy: 0.8485 - val_auc_6: 0.9560\n",
      "Epoch 61/100\n",
      "5/5 [==============================] - 2s 386ms/step - loss: 0.3280 - categorical_accuracy: 0.8645 - auc_6: 0.9712 - val_loss: 0.5779 - val_categorical_accuracy: 0.7879 - val_auc_6: 0.9353\n",
      "Epoch 62/100\n",
      "5/5 [==============================] - 2s 379ms/step - loss: 0.2720 - categorical_accuracy: 0.8924 - auc_6: 0.9803 - val_loss: 0.3983 - val_categorical_accuracy: 0.8030 - val_auc_6: 0.9544\n",
      "Epoch 63/100\n",
      "5/5 [==============================] - 2s 392ms/step - loss: 0.2360 - categorical_accuracy: 0.9084 - auc_6: 0.9841 - val_loss: 0.4000 - val_categorical_accuracy: 0.8636 - val_auc_6: 0.9559\n",
      "Epoch 64/100\n",
      "5/5 [==============================] - 2s 375ms/step - loss: 0.2720 - categorical_accuracy: 0.8964 - auc_6: 0.9781 - val_loss: 0.3939 - val_categorical_accuracy: 0.8788 - val_auc_6: 0.9566\n",
      "Epoch 65/100\n",
      "5/5 [==============================] - 2s 466ms/step - loss: 0.2122 - categorical_accuracy: 0.9283 - auc_6: 0.9871 - val_loss: 0.3898 - val_categorical_accuracy: 0.8788 - val_auc_6: 0.9566\n",
      "Epoch 66/100\n",
      "5/5 [==============================] - 2s 365ms/step - loss: 0.2636 - categorical_accuracy: 0.8845 - auc_6: 0.9810 - val_loss: 0.3810 - val_categorical_accuracy: 0.8636 - val_auc_6: 0.9552\n",
      "Epoch 67/100\n",
      "5/5 [==============================] - 2s 383ms/step - loss: 0.1808 - categorical_accuracy: 0.9163 - auc_6: 0.9917 - val_loss: 0.3567 - val_categorical_accuracy: 0.8636 - val_auc_6: 0.9655\n",
      "Epoch 68/100\n",
      "5/5 [==============================] - 2s 405ms/step - loss: 0.2039 - categorical_accuracy: 0.9323 - auc_6: 0.9873 - val_loss: 0.3553 - val_categorical_accuracy: 0.8636 - val_auc_6: 0.9621\n",
      "Epoch 69/100\n",
      "5/5 [==============================] - 2s 393ms/step - loss: 0.1565 - categorical_accuracy: 0.9363 - auc_6: 0.9932 - val_loss: 0.3788 - val_categorical_accuracy: 0.8788 - val_auc_6: 0.9601\n",
      "Epoch 70/100\n",
      "5/5 [==============================] - 2s 368ms/step - loss: 0.2052 - categorical_accuracy: 0.9442 - auc_6: 0.9850 - val_loss: 0.4828 - val_categorical_accuracy: 0.8333 - val_auc_6: 0.9419\n",
      "Epoch 71/100\n",
      "5/5 [==============================] - 2s 388ms/step - loss: 0.2188 - categorical_accuracy: 0.9163 - auc_6: 0.9864 - val_loss: 0.4156 - val_categorical_accuracy: 0.9091 - val_auc_6: 0.9610\n",
      "Epoch 72/100\n",
      "5/5 [==============================] - 2s 383ms/step - loss: 0.2773 - categorical_accuracy: 0.9084 - auc_6: 0.9794 - val_loss: 0.5236 - val_categorical_accuracy: 0.8636 - val_auc_6: 0.9498\n",
      "Epoch 73/100\n",
      "5/5 [==============================] - 2s 383ms/step - loss: 0.2210 - categorical_accuracy: 0.9163 - auc_6: 0.9865 - val_loss: 0.4887 - val_categorical_accuracy: 0.8485 - val_auc_6: 0.9549\n",
      "Epoch 74/100\n",
      "5/5 [==============================] - 2s 386ms/step - loss: 0.3297 - categorical_accuracy: 0.8486 - auc_6: 0.9695 - val_loss: 0.5608 - val_categorical_accuracy: 0.8485 - val_auc_6: 0.9337\n",
      "Epoch 75/100\n",
      "5/5 [==============================] - 2s 383ms/step - loss: 1.0441 - categorical_accuracy: 0.6892 - auc_6: 0.8638 - val_loss: 0.7707 - val_categorical_accuracy: 0.7576 - val_auc_6: 0.9201\n",
      "Epoch 76/100\n",
      "5/5 [==============================] - 2s 389ms/step - loss: 0.5259 - categorical_accuracy: 0.8048 - auc_6: 0.9389 - val_loss: 0.6299 - val_categorical_accuracy: 0.7273 - val_auc_6: 0.9063\n",
      "Epoch 77/100\n",
      "5/5 [==============================] - 2s 405ms/step - loss: 0.4448 - categorical_accuracy: 0.8207 - auc_6: 0.9468 - val_loss: 0.6102 - val_categorical_accuracy: 0.6667 - val_auc_6: 0.8903\n",
      "Epoch 78/100\n",
      "5/5 [==============================] - 2s 381ms/step - loss: 0.4105 - categorical_accuracy: 0.8367 - auc_6: 0.9541 - val_loss: 0.4799 - val_categorical_accuracy: 0.7424 - val_auc_6: 0.9294\n",
      "Epoch 79/100\n",
      "5/5 [==============================] - 2s 389ms/step - loss: 0.3507 - categorical_accuracy: 0.8685 - auc_6: 0.9667 - val_loss: 0.4074 - val_categorical_accuracy: 0.8485 - val_auc_6: 0.9531\n",
      "Epoch 80/100\n",
      "5/5 [==============================] - 2s 379ms/step - loss: 0.2680 - categorical_accuracy: 0.8924 - auc_6: 0.9800 - val_loss: 0.4925 - val_categorical_accuracy: 0.8030 - val_auc_6: 0.9412\n",
      "Epoch 81/100\n"
     ]
    },
    {
     "name": "stdout",
     "output_type": "stream",
     "text": [
      "5/5 [==============================] - 2s 384ms/step - loss: 0.4062 - categorical_accuracy: 0.8207 - auc_6: 0.9576 - val_loss: 0.3534 - val_categorical_accuracy: 0.8485 - val_auc_6: 0.9657\n",
      "Epoch 82/100\n",
      "5/5 [==============================] - 2s 460ms/step - loss: 0.3111 - categorical_accuracy: 0.8606 - auc_6: 0.9732 - val_loss: 0.4047 - val_categorical_accuracy: 0.8485 - val_auc_6: 0.9567\n",
      "Epoch 83/100\n",
      "5/5 [==============================] - 2s 457ms/step - loss: 0.3069 - categorical_accuracy: 0.8884 - auc_6: 0.9746 - val_loss: 0.4182 - val_categorical_accuracy: 0.8333 - val_auc_6: 0.9516\n",
      "Epoch 84/100\n",
      "5/5 [==============================] - 2s 391ms/step - loss: 0.3541 - categorical_accuracy: 0.8725 - auc_6: 0.9671 - val_loss: 0.4041 - val_categorical_accuracy: 0.8030 - val_auc_6: 0.9537\n",
      "Epoch 85/100\n",
      "5/5 [==============================] - 2s 387ms/step - loss: 0.3016 - categorical_accuracy: 0.8725 - auc_6: 0.9746 - val_loss: 0.3651 - val_categorical_accuracy: 0.8485 - val_auc_6: 0.9650\n",
      "Epoch 86/100\n",
      "5/5 [==============================] - 2s 390ms/step - loss: 0.3026 - categorical_accuracy: 0.8805 - auc_6: 0.9738 - val_loss: 0.3329 - val_categorical_accuracy: 0.8485 - val_auc_6: 0.9706\n",
      "Epoch 87/100\n",
      "5/5 [==============================] - 2s 466ms/step - loss: 0.2719 - categorical_accuracy: 0.9004 - auc_6: 0.9790 - val_loss: 0.2828 - val_categorical_accuracy: 0.8939 - val_auc_6: 0.9796\n",
      "Epoch 88/100\n",
      "5/5 [==============================] - 2s 388ms/step - loss: 0.2664 - categorical_accuracy: 0.9084 - auc_6: 0.9786 - val_loss: 0.2800 - val_categorical_accuracy: 0.8788 - val_auc_6: 0.9789\n",
      "Epoch 89/100\n",
      "5/5 [==============================] - 2s 472ms/step - loss: 0.1707 - categorical_accuracy: 0.9363 - auc_6: 0.9918 - val_loss: 0.2939 - val_categorical_accuracy: 0.8636 - val_auc_6: 0.9754\n",
      "Epoch 90/100\n",
      "5/5 [==============================] - 2s 463ms/step - loss: 0.2157 - categorical_accuracy: 0.9163 - auc_6: 0.9851 - val_loss: 0.2810 - val_categorical_accuracy: 0.8485 - val_auc_6: 0.9774\n",
      "Epoch 91/100\n",
      "5/5 [==============================] - 2s 372ms/step - loss: 0.2250 - categorical_accuracy: 0.9363 - auc_6: 0.9824 - val_loss: 0.2703 - val_categorical_accuracy: 0.8636 - val_auc_6: 0.9793\n",
      "Epoch 92/100\n",
      "5/5 [==============================] - 2s 382ms/step - loss: 0.1884 - categorical_accuracy: 0.9363 - auc_6: 0.9890 - val_loss: 0.2910 - val_categorical_accuracy: 0.8788 - val_auc_6: 0.9764\n",
      "Epoch 93/100\n",
      "5/5 [==============================] - 2s 381ms/step - loss: 0.2180 - categorical_accuracy: 0.9084 - auc_6: 0.9867 - val_loss: 0.2981 - val_categorical_accuracy: 0.8788 - val_auc_6: 0.9745\n",
      "Epoch 94/100\n",
      "5/5 [==============================] - 2s 388ms/step - loss: 0.2177 - categorical_accuracy: 0.9004 - auc_6: 0.9862 - val_loss: 0.3233 - val_categorical_accuracy: 0.8636 - val_auc_6: 0.9685\n",
      "Epoch 95/100\n",
      "5/5 [==============================] - 2s 367ms/step - loss: 0.1967 - categorical_accuracy: 0.9283 - auc_6: 0.9874 - val_loss: 0.2721 - val_categorical_accuracy: 0.8939 - val_auc_6: 0.9780\n",
      "Epoch 96/100\n",
      "5/5 [==============================] - 2s 465ms/step - loss: 0.1889 - categorical_accuracy: 0.9283 - auc_6: 0.9896 - val_loss: 0.2773 - val_categorical_accuracy: 0.8788 - val_auc_6: 0.9771\n",
      "Epoch 97/100\n",
      "5/5 [==============================] - 2s 379ms/step - loss: 0.2988 - categorical_accuracy: 0.8964 - auc_6: 0.9762 - val_loss: 1.0562 - val_categorical_accuracy: 0.6515 - val_auc_6: 0.8959\n",
      "Epoch 98/100\n",
      "5/5 [==============================] - 2s 389ms/step - loss: 0.5569 - categorical_accuracy: 0.7968 - auc_6: 0.9400 - val_loss: 0.9126 - val_categorical_accuracy: 0.6515 - val_auc_6: 0.8598\n",
      "Epoch 99/100\n",
      "5/5 [==============================] - 2s 378ms/step - loss: 0.3728 - categorical_accuracy: 0.8606 - auc_6: 0.9612 - val_loss: 0.4386 - val_categorical_accuracy: 0.8485 - val_auc_6: 0.9439\n",
      "Epoch 100/100\n",
      "5/5 [==============================] - 2s 452ms/step - loss: 0.3127 - categorical_accuracy: 0.8924 - auc_6: 0.9728 - val_loss: 0.4431 - val_categorical_accuracy: 0.8939 - val_auc_6: 0.9538\n"
     ]
    }
   ],
   "source": [
    "history = model.fit(training_iterator,steps_per_epoch=training_iterator.samples/BATCH_SIZE,epochs = 100,validation_data=validation_iterator,validation_steps=validation_iterator.samples/BATCH_SIZE)"
   ]
  },
  {
   "cell_type": "code",
   "execution_count": 163,
   "metadata": {},
   "outputs": [
    {
     "ename": "KeyError",
     "evalue": "'auc'",
     "output_type": "error",
     "traceback": [
      "\u001b[0;31m---------------------------------------------------------------------------\u001b[0m",
      "\u001b[0;31mKeyError\u001b[0m                                  Traceback (most recent call last)",
      "\u001b[0;32m<ipython-input-163-8459d307e036>\u001b[0m in \u001b[0;36m<module>\u001b[0;34m\u001b[0m\n\u001b[1;32m     11\u001b[0m \u001b[0;31m# plotting auc and validation auc over epochs\u001b[0m\u001b[0;34m\u001b[0m\u001b[0;34m\u001b[0m\u001b[0;34m\u001b[0m\u001b[0m\n\u001b[1;32m     12\u001b[0m \u001b[0max2\u001b[0m \u001b[0;34m=\u001b[0m \u001b[0mfig\u001b[0m\u001b[0;34m.\u001b[0m\u001b[0madd_subplot\u001b[0m\u001b[0;34m(\u001b[0m\u001b[0;36m2\u001b[0m\u001b[0;34m,\u001b[0m \u001b[0;36m1\u001b[0m\u001b[0;34m,\u001b[0m \u001b[0;36m2\u001b[0m\u001b[0;34m)\u001b[0m\u001b[0;34m\u001b[0m\u001b[0;34m\u001b[0m\u001b[0m\n\u001b[0;32m---> 13\u001b[0;31m \u001b[0max2\u001b[0m\u001b[0;34m.\u001b[0m\u001b[0mplot\u001b[0m\u001b[0;34m(\u001b[0m\u001b[0mhistory\u001b[0m\u001b[0;34m.\u001b[0m\u001b[0mhistory\u001b[0m\u001b[0;34m[\u001b[0m\u001b[0;34m'auc'\u001b[0m\u001b[0;34m]\u001b[0m\u001b[0;34m)\u001b[0m\u001b[0;34m\u001b[0m\u001b[0;34m\u001b[0m\u001b[0m\n\u001b[0m\u001b[1;32m     14\u001b[0m \u001b[0max2\u001b[0m\u001b[0;34m.\u001b[0m\u001b[0mplot\u001b[0m\u001b[0;34m(\u001b[0m\u001b[0mhistory\u001b[0m\u001b[0;34m.\u001b[0m\u001b[0mhistory\u001b[0m\u001b[0;34m[\u001b[0m\u001b[0;34m'val_auc'\u001b[0m\u001b[0;34m]\u001b[0m\u001b[0;34m)\u001b[0m\u001b[0;34m\u001b[0m\u001b[0;34m\u001b[0m\u001b[0m\n\u001b[1;32m     15\u001b[0m \u001b[0max2\u001b[0m\u001b[0;34m.\u001b[0m\u001b[0mset_title\u001b[0m\u001b[0;34m(\u001b[0m\u001b[0;34m'model auc'\u001b[0m\u001b[0;34m)\u001b[0m\u001b[0;34m\u001b[0m\u001b[0;34m\u001b[0m\u001b[0m\n",
      "\u001b[0;31mKeyError\u001b[0m: 'auc'"
     ]
    },
    {
     "data": {
      "image/png": "[encoded data removed]",
      "text/plain": [
       "<Figure size 432x288 with 2 Axes>"
      ]
     },
     "metadata": {
      "needs_background": "light"
     },
     "output_type": "display_data"
    }
   ],
   "source": [
    "\n",
    "# plotting categorical and validation accuracy over epochs\n",
    "fig = plt.figure()\n",
    "ax1 = fig.add_subplot(2, 1, 1)\n",
    "ax1.plot(history.history['categorical_accuracy'])\n",
    "ax1.plot(history.history['val_categorical_accuracy'])\n",
    "ax1.set_title('model accuracy')\n",
    "ax1.set_xlabel('epoch')\n",
    "ax1.set_ylabel('accuracy')\n",
    "ax1.legend(['train', 'validation'], loc='upper left')\n",
    "\n",
    "# plotting auc and validation auc over epochs\n",
    "ax2 = fig.add_subplot(2, 1, 2)\n",
    "ax2.plot(history.history['auc'])\n",
    "ax2.plot(history.history['val_auc'])\n",
    "ax2.set_title('model auc')\n",
    "ax2.set_xlabel('epoch')\n",
    "ax2.set_ylabel('auc')\n",
    "ax2.legend(['train', 'validation'], loc='upper left')\n",
    "\n",
    "plt.show()"
   ]
  },
  {
   "cell_type": "code",
   "execution_count": null,
   "metadata": {},
   "outputs": [],
   "source": []
  }
 ],
 "metadata": {
  "kernelspec": {
   "display_name": "Python 3",
   "language": "python",
   "name": "python3"
  },
  "language_info": {
   "codemirror_mode": {
    "name": "ipython",
    "version": 3
   },
   "file_extension": ".py",
   "mimetype": "text/x-python",
   "name": "python",
   "nbconvert_exporter": "python",
   "pygments_lexer": "ipython3",
   "version": "3.8.5"
  }
 },
 "nbformat": 4,
 "nbformat_minor": 4
}
