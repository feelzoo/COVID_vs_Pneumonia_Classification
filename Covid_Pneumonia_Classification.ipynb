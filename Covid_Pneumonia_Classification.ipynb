{
 "cells": [
  {
   "cell_type": "markdown",
   "metadata": {},
   "source": [
    "# Covid - Pneunmonia Classfication Model from X-ray images"
   ]
  },
  {
   "cell_type": "markdown",
   "metadata": {},
   "source": [
    "In this project, I will develop a deep learning model that can support doctors with diagnosing lung illnesses.  "
   ]
  },
  {
   "cell_type": "code",
   "execution_count": 198,
   "metadata": {},
   "outputs": [],
   "source": [
    "import pandas as pd\n",
    "import numpy as np\n",
    "import seaborn as sns\n",
    "from matplotlib import pyplot as plt\n",
    "import tensorflow as tf\n",
    "from tensorflow import keras\n",
    "from tensorflow.keras.models import Sequential\n",
    "from tensorflow.keras.preprocessing.image import ImageDataGenerator\n",
    "from tensorflow.keras.callbacks import EarlyStopping\n",
    "from tensorflow.keras.layers import InputLayer\n",
    "from tensorflow.keras import Input\n",
    "from tensorflow.keras.layers import Flatten\n",
    "from tensorflow.keras.layers import Dense\n",
    "from tensorflow.keras.layers import Conv2D\n",
    "from tensorflow.keras.layers import MaxPooling2D"
   ]
  },
  {
   "cell_type": "code",
   "execution_count": 199,
   "metadata": {},
   "outputs": [],
   "source": [
    "training_data_generator = ImageDataGenerator(rescale = 1.0/255,zoom_range =.2,rotation_range =15,width_shift_range = .05,height_shift_range=.05)"
   ]
  },
  {
   "cell_type": "code",
   "execution_count": 200,
   "metadata": {},
   "outputs": [],
   "source": [
    "DIRECTORY = \"/Users/PJMoon/Data_Science_Projects/Covid_Pneumonia_Classification/Covid19-dataset/train/\"\n",
    "DIRECTORY2 = \"/Users/PJMoon/Data_Science_Projects/Covid_Pneumonia_Classification/Covid19-dataset/test/\"\n",
    "CLASS_MODE = \"categorical\"\n",
    "COLOR_MODE = \"grayscale\"\n",
    "TARGET_SIZE = (256,256)\n",
    "BATCH_SIZE = 50"
   ]
  },
  {
   "cell_type": "code",
   "execution_count": 201,
   "metadata": {
    "scrolled": false
   },
   "outputs": [
    {
     "name": "stdout",
     "output_type": "stream",
     "text": [
      "Found 251 images belonging to 3 classes.\n"
     ]
    }
   ],
   "source": [
    "training_iterator = training_data_generator.flow_from_directory(DIRECTORY,class_mode=CLASS_MODE,color_mode=COLOR_MODE,target_size=TARGET_SIZE,batch_size=BATCH_SIZE)"
   ]
  },
  {
   "cell_type": "code",
   "execution_count": 202,
   "metadata": {},
   "outputs": [],
   "source": [
    "validation_data_generator = ImageDataGenerator(rescale=1.0/255)"
   ]
  },
  {
   "cell_type": "code",
   "execution_count": 203,
   "metadata": {},
   "outputs": [
    {
     "name": "stdout",
     "output_type": "stream",
     "text": [
      "Found 66 images belonging to 3 classes.\n"
     ]
    }
   ],
   "source": [
    "validation_iterator= validation_data_generator.flow_from_directory(DIRECTORY2,class_mode=CLASS_MODE,color_mode = COLOR_MODE, batch_size=BATCH_SIZE)"
   ]
  },
  {
   "cell_type": "code",
   "execution_count": 204,
   "metadata": {},
   "outputs": [],
   "source": [
    "model = Sequential()"
   ]
  },
  {
   "cell_type": "code",
   "execution_count": 205,
   "metadata": {},
   "outputs": [],
   "source": [
    "model.add(InputLayer(input_shape=(256,256,1)))\n",
    "\n",
    "#create a convolutional layer\n",
    "model.add(Conv2D(16,7,activation = 'relu',strides = 3,padding='same'))\n",
    "model.add(MaxPooling2D(pool_size=(5,5),strides=(5,5)))\n",
    "model.add(Conv2D(16,7,activation='relu',strides = 1,padding='same'))\n",
    "model.add(MaxPooling2D(pool_size=(2,2),strides = (2,2)))\n",
    "model.add(Flatten())\n",
    "model.add(Dense(3,activation='softmax'))"
   ]
  },
  {
   "cell_type": "code",
   "execution_count": 206,
   "metadata": {},
   "outputs": [
    {
     "data": {
      "text/plain": [
       "12560"
      ]
     },
     "execution_count": 206,
     "metadata": {},
     "output_type": "execute_result"
    }
   ],
   "source": [
    "785*16"
   ]
  },
  {
   "cell_type": "code",
   "execution_count": 207,
   "metadata": {},
   "outputs": [
    {
     "name": "stdout",
     "output_type": "stream",
     "text": [
      "Model: \"sequential_13\"\n",
      "_________________________________________________________________\n",
      "Layer (type)                 Output Shape              Param #   \n",
      "=================================================================\n",
      "conv2d_30 (Conv2D)           (None, 86, 86, 16)        800       \n",
      "_________________________________________________________________\n",
      "max_pooling2d_22 (MaxPooling (None, 17, 17, 16)        0         \n",
      "_________________________________________________________________\n",
      "conv2d_31 (Conv2D)           (None, 17, 17, 16)        12560     \n",
      "_________________________________________________________________\n",
      "max_pooling2d_23 (MaxPooling (None, 8, 8, 16)          0         \n",
      "_________________________________________________________________\n",
      "flatten_13 (Flatten)         (None, 1024)              0         \n",
      "_________________________________________________________________\n",
      "dense_11 (Dense)             (None, 3)                 3075      \n",
      "=================================================================\n",
      "Total params: 16,435\n",
      "Trainable params: 16,435\n",
      "Non-trainable params: 0\n",
      "_________________________________________________________________\n"
     ]
    }
   ],
   "source": [
    "model.summary()"
   ]
  },
  {
   "cell_type": "code",
   "execution_count": 208,
   "metadata": {},
   "outputs": [],
   "source": [
    "optimizer = tf.keras.optimizers.Adam(learning_rate=.005)\n",
    "loss = tf.keras.losses.CategoricalCrossentropy()\n",
    "es = EarlyStopping(monitor='val_auc', mode='max', verbose=1, patience=20)"
   ]
  },
  {
   "cell_type": "code",
   "execution_count": 209,
   "metadata": {},
   "outputs": [],
   "source": [
    "model.compile(optimizer = optimizer, loss = loss, metrics =[tf.keras.metrics.CategoricalAccuracy(),tf.keras.metrics.AUC()])"
   ]
  },
  {
   "cell_type": "code",
   "execution_count": 210,
   "metadata": {},
   "outputs": [
    {
     "name": "stdout",
     "output_type": "stream",
     "text": [
      "Epoch 1/100\n",
      "5/5 [==============================] - 3s 545ms/step - loss: 1.1014 - categorical_accuracy: 0.4382 - auc_9: 0.5500 - val_loss: 1.0727 - val_categorical_accuracy: 0.3939 - val_auc_9: 0.6334\n",
      "WARNING:tensorflow:Early stopping conditioned on metric `val_auc` which is not available. Available metrics are: loss,categorical_accuracy,auc_9,val_loss,val_categorical_accuracy,val_auc_9\n",
      "Epoch 2/100\n",
      "5/5 [==============================] - 2s 375ms/step - loss: 1.0973 - categorical_accuracy: 0.3865 - auc_9: 0.5741 - val_loss: 1.0680 - val_categorical_accuracy: 0.5303 - val_auc_9: 0.6861\n",
      "WARNING:tensorflow:Early stopping conditioned on metric `val_auc` which is not available. Available metrics are: loss,categorical_accuracy,auc_9,val_loss,val_categorical_accuracy,val_auc_9\n",
      "Epoch 3/100\n",
      "5/5 [==============================] - 2s 376ms/step - loss: 1.0435 - categorical_accuracy: 0.4821 - auc_9: 0.6513 - val_loss: 1.0306 - val_categorical_accuracy: 0.3182 - val_auc_9: 0.7018\n",
      "WARNING:tensorflow:Early stopping conditioned on metric `val_auc` which is not available. Available metrics are: loss,categorical_accuracy,auc_9,val_loss,val_categorical_accuracy,val_auc_9\n",
      "Epoch 4/100\n",
      "5/5 [==============================] - 2s 444ms/step - loss: 0.9488 - categorical_accuracy: 0.5538 - auc_9: 0.7863 - val_loss: 0.8688 - val_categorical_accuracy: 0.6970 - val_auc_9: 0.8456\n",
      "WARNING:tensorflow:Early stopping conditioned on metric `val_auc` which is not available. Available metrics are: loss,categorical_accuracy,auc_9,val_loss,val_categorical_accuracy,val_auc_9\n",
      "Epoch 5/100\n",
      "5/5 [==============================] - 2s 377ms/step - loss: 0.8841 - categorical_accuracy: 0.5458 - auc_9: 0.7712 - val_loss: 0.8622 - val_categorical_accuracy: 0.5152 - val_auc_9: 0.7804\n",
      "WARNING:tensorflow:Early stopping conditioned on metric `val_auc` which is not available. Available metrics are: loss,categorical_accuracy,auc_9,val_loss,val_categorical_accuracy,val_auc_9\n",
      "Epoch 6/100\n",
      "5/5 [==============================] - 2s 365ms/step - loss: 0.6739 - categorical_accuracy: 0.7450 - auc_9: 0.8861 - val_loss: 0.6657 - val_categorical_accuracy: 0.7424 - val_auc_9: 0.8904\n",
      "WARNING:tensorflow:Early stopping conditioned on metric `val_auc` which is not available. Available metrics are: loss,categorical_accuracy,auc_9,val_loss,val_categorical_accuracy,val_auc_9\n",
      "Epoch 7/100\n",
      "5/5 [==============================] - 2s 379ms/step - loss: 0.7023 - categorical_accuracy: 0.7052 - auc_9: 0.8660 - val_loss: 0.6384 - val_categorical_accuracy: 0.7727 - val_auc_9: 0.8961\n",
      "WARNING:tensorflow:Early stopping conditioned on metric `val_auc` which is not available. Available metrics are: loss,categorical_accuracy,auc_9,val_loss,val_categorical_accuracy,val_auc_9\n",
      "Epoch 8/100\n",
      "5/5 [==============================] - 2s 359ms/step - loss: 0.6379 - categorical_accuracy: 0.7331 - auc_9: 0.8940 - val_loss: 0.6012 - val_categorical_accuracy: 0.6970 - val_auc_9: 0.9100\n",
      "WARNING:tensorflow:Early stopping conditioned on metric `val_auc` which is not available. Available metrics are: loss,categorical_accuracy,auc_9,val_loss,val_categorical_accuracy,val_auc_9\n",
      "Epoch 9/100\n",
      "5/5 [==============================] - 2s 453ms/step - loss: 0.5913 - categorical_accuracy: 0.7570 - auc_9: 0.9090 - val_loss: 0.5451 - val_categorical_accuracy: 0.7273 - val_auc_9: 0.9218\n",
      "WARNING:tensorflow:Early stopping conditioned on metric `val_auc` which is not available. Available metrics are: loss,categorical_accuracy,auc_9,val_loss,val_categorical_accuracy,val_auc_9\n",
      "Epoch 10/100\n",
      "5/5 [==============================] - 2s 371ms/step - loss: 0.5455 - categorical_accuracy: 0.7769 - auc_9: 0.9170 - val_loss: 0.8293 - val_categorical_accuracy: 0.6061 - val_auc_9: 0.8670\n",
      "WARNING:tensorflow:Early stopping conditioned on metric `val_auc` which is not available. Available metrics are: loss,categorical_accuracy,auc_9,val_loss,val_categorical_accuracy,val_auc_9\n",
      "Epoch 11/100\n",
      "5/5 [==============================] - 2s 374ms/step - loss: 0.6006 - categorical_accuracy: 0.7649 - auc_9: 0.9034 - val_loss: 0.5045 - val_categorical_accuracy: 0.8030 - val_auc_9: 0.9365\n",
      "WARNING:tensorflow:Early stopping conditioned on metric `val_auc` which is not available. Available metrics are: loss,categorical_accuracy,auc_9,val_loss,val_categorical_accuracy,val_auc_9\n",
      "Epoch 12/100\n",
      "5/5 [==============================] - 2s 375ms/step - loss: 0.4957 - categorical_accuracy: 0.8008 - auc_9: 0.9336 - val_loss: 0.5443 - val_categorical_accuracy: 0.7121 - val_auc_9: 0.9106\n",
      "WARNING:tensorflow:Early stopping conditioned on metric `val_auc` which is not available. Available metrics are: loss,categorical_accuracy,auc_9,val_loss,val_categorical_accuracy,val_auc_9\n",
      "Epoch 13/100\n",
      "5/5 [==============================] - 2s 384ms/step - loss: 0.4134 - categorical_accuracy: 0.8207 - auc_9: 0.9533 - val_loss: 0.4653 - val_categorical_accuracy: 0.8030 - val_auc_9: 0.9409\n",
      "WARNING:tensorflow:Early stopping conditioned on metric `val_auc` which is not available. Available metrics are: loss,categorical_accuracy,auc_9,val_loss,val_categorical_accuracy,val_auc_9\n",
      "Epoch 14/100\n",
      "5/5 [==============================] - 2s 440ms/step - loss: 0.4531 - categorical_accuracy: 0.7928 - auc_9: 0.9434 - val_loss: 0.5180 - val_categorical_accuracy: 0.7727 - val_auc_9: 0.9286\n",
      "WARNING:tensorflow:Early stopping conditioned on metric `val_auc` which is not available. Available metrics are: loss,categorical_accuracy,auc_9,val_loss,val_categorical_accuracy,val_auc_9\n",
      "Epoch 15/100\n",
      "5/5 [==============================] - 2s 377ms/step - loss: 0.4137 - categorical_accuracy: 0.8008 - auc_9: 0.9510 - val_loss: 0.4794 - val_categorical_accuracy: 0.7879 - val_auc_9: 0.9372\n",
      "WARNING:tensorflow:Early stopping conditioned on metric `val_auc` which is not available. Available metrics are: loss,categorical_accuracy,auc_9,val_loss,val_categorical_accuracy,val_auc_9\n",
      "Epoch 16/100\n",
      "5/5 [==============================] - 2s 394ms/step - loss: 0.4823 - categorical_accuracy: 0.7809 - auc_9: 0.9349 - val_loss: 0.4934 - val_categorical_accuracy: 0.8182 - val_auc_9: 0.9350\n",
      "WARNING:tensorflow:Early stopping conditioned on metric `val_auc` which is not available. Available metrics are: loss,categorical_accuracy,auc_9,val_loss,val_categorical_accuracy,val_auc_9\n",
      "Epoch 17/100\n",
      "5/5 [==============================] - 2s 379ms/step - loss: 0.3620 - categorical_accuracy: 0.8446 - auc_9: 0.9654 - val_loss: 0.4765 - val_categorical_accuracy: 0.8030 - val_auc_9: 0.9391\n",
      "WARNING:tensorflow:Early stopping conditioned on metric `val_auc` which is not available. Available metrics are: loss,categorical_accuracy,auc_9,val_loss,val_categorical_accuracy,val_auc_9\n",
      "Epoch 18/100\n",
      "5/5 [==============================] - 2s 400ms/step - loss: 0.6258 - categorical_accuracy: 0.7649 - auc_9: 0.8984 - val_loss: 0.5865 - val_categorical_accuracy: 0.7273 - val_auc_9: 0.9031\n",
      "WARNING:tensorflow:Early stopping conditioned on metric `val_auc` which is not available. Available metrics are: loss,categorical_accuracy,auc_9,val_loss,val_categorical_accuracy,val_auc_9\n",
      "Epoch 19/100\n",
      "5/5 [==============================] - 2s 456ms/step - loss: 0.5825 - categorical_accuracy: 0.7490 - auc_9: 0.9065 - val_loss: 0.6540 - val_categorical_accuracy: 0.6970 - val_auc_9: 0.8814\n",
      "WARNING:tensorflow:Early stopping conditioned on metric `val_auc` which is not available. Available metrics are: loss,categorical_accuracy,auc_9,val_loss,val_categorical_accuracy,val_auc_9\n",
      "Epoch 20/100\n",
      "5/5 [==============================] - 2s 367ms/step - loss: 0.5329 - categorical_accuracy: 0.7610 - auc_9: 0.9228 - val_loss: 0.7454 - val_categorical_accuracy: 0.6364 - val_auc_9: 0.8388\n",
      "WARNING:tensorflow:Early stopping conditioned on metric `val_auc` which is not available. Available metrics are: loss,categorical_accuracy,auc_9,val_loss,val_categorical_accuracy,val_auc_9\n",
      "Epoch 21/100\n",
      "5/5 [==============================] - 2s 387ms/step - loss: 0.5891 - categorical_accuracy: 0.7570 - auc_9: 0.9038 - val_loss: 0.5805 - val_categorical_accuracy: 0.7727 - val_auc_9: 0.9103\n",
      "WARNING:tensorflow:Early stopping conditioned on metric `val_auc` which is not available. Available metrics are: loss,categorical_accuracy,auc_9,val_loss,val_categorical_accuracy,val_auc_9\n"
     ]
    },
    {
     "name": "stdout",
     "output_type": "stream",
     "text": [
      "Epoch 22/100\n",
      "5/5 [==============================] - 2s 385ms/step - loss: 0.4742 - categorical_accuracy: 0.7928 - auc_9: 0.9393 - val_loss: 0.5175 - val_categorical_accuracy: 0.6818 - val_auc_9: 0.9196\n",
      "WARNING:tensorflow:Early stopping conditioned on metric `val_auc` which is not available. Available metrics are: loss,categorical_accuracy,auc_9,val_loss,val_categorical_accuracy,val_auc_9\n",
      "Epoch 23/100\n",
      "5/5 [==============================] - 2s 371ms/step - loss: 0.4174 - categorical_accuracy: 0.8406 - auc_9: 0.9511 - val_loss: 0.4267 - val_categorical_accuracy: 0.8788 - val_auc_9: 0.9574\n",
      "WARNING:tensorflow:Early stopping conditioned on metric `val_auc` which is not available. Available metrics are: loss,categorical_accuracy,auc_9,val_loss,val_categorical_accuracy,val_auc_9\n",
      "Epoch 24/100\n",
      "5/5 [==============================] - 2s 380ms/step - loss: 0.3815 - categorical_accuracy: 0.8606 - auc_9: 0.9594 - val_loss: 0.4720 - val_categorical_accuracy: 0.8182 - val_auc_9: 0.9412\n",
      "WARNING:tensorflow:Early stopping conditioned on metric `val_auc` which is not available. Available metrics are: loss,categorical_accuracy,auc_9,val_loss,val_categorical_accuracy,val_auc_9\n",
      "Epoch 25/100\n",
      "5/5 [==============================] - 2s 361ms/step - loss: 0.3342 - categorical_accuracy: 0.8765 - auc_9: 0.9683 - val_loss: 0.3878 - val_categorical_accuracy: 0.8636 - val_auc_9: 0.9592\n",
      "WARNING:tensorflow:Early stopping conditioned on metric `val_auc` which is not available. Available metrics are: loss,categorical_accuracy,auc_9,val_loss,val_categorical_accuracy,val_auc_9\n",
      "Epoch 26/100\n",
      "5/5 [==============================] - 2s 361ms/step - loss: 0.3184 - categorical_accuracy: 0.8845 - auc_9: 0.9714 - val_loss: 0.3283 - val_categorical_accuracy: 0.8939 - val_auc_9: 0.9725\n",
      "WARNING:tensorflow:Early stopping conditioned on metric `val_auc` which is not available. Available metrics are: loss,categorical_accuracy,auc_9,val_loss,val_categorical_accuracy,val_auc_9\n",
      "Epoch 27/100\n",
      "5/5 [==============================] - 2s 369ms/step - loss: 0.5203 - categorical_accuracy: 0.7729 - auc_9: 0.9348 - val_loss: 1.0143 - val_categorical_accuracy: 0.6667 - val_auc_9: 0.8637\n",
      "WARNING:tensorflow:Early stopping conditioned on metric `val_auc` which is not available. Available metrics are: loss,categorical_accuracy,auc_9,val_loss,val_categorical_accuracy,val_auc_9\n",
      "Epoch 28/100\n",
      "5/5 [==============================] - 2s 362ms/step - loss: 0.4189 - categorical_accuracy: 0.8406 - auc_9: 0.9514 - val_loss: 0.5189 - val_categorical_accuracy: 0.7576 - val_auc_9: 0.9279\n",
      "WARNING:tensorflow:Early stopping conditioned on metric `val_auc` which is not available. Available metrics are: loss,categorical_accuracy,auc_9,val_loss,val_categorical_accuracy,val_auc_9\n",
      "Epoch 29/100\n",
      "5/5 [==============================] - 2s 381ms/step - loss: 0.3829 - categorical_accuracy: 0.8446 - auc_9: 0.9605 - val_loss: 0.5215 - val_categorical_accuracy: 0.8182 - val_auc_9: 0.9312\n",
      "WARNING:tensorflow:Early stopping conditioned on metric `val_auc` which is not available. Available metrics are: loss,categorical_accuracy,auc_9,val_loss,val_categorical_accuracy,val_auc_9\n",
      "Epoch 30/100\n",
      "5/5 [==============================] - 2s 383ms/step - loss: 0.4534 - categorical_accuracy: 0.8247 - auc_9: 0.9445 - val_loss: 0.6169 - val_categorical_accuracy: 0.7576 - val_auc_9: 0.9060\n",
      "WARNING:tensorflow:Early stopping conditioned on metric `val_auc` which is not available. Available metrics are: loss,categorical_accuracy,auc_9,val_loss,val_categorical_accuracy,val_auc_9\n",
      "Epoch 31/100\n",
      "5/5 [==============================] - 2s 367ms/step - loss: 0.4545 - categorical_accuracy: 0.8048 - auc_9: 0.9441 - val_loss: 0.5364 - val_categorical_accuracy: 0.6970 - val_auc_9: 0.9143\n",
      "WARNING:tensorflow:Early stopping conditioned on metric `val_auc` which is not available. Available metrics are: loss,categorical_accuracy,auc_9,val_loss,val_categorical_accuracy,val_auc_9\n",
      "Epoch 32/100\n",
      "5/5 [==============================] - 2s 391ms/step - loss: 0.3528 - categorical_accuracy: 0.8606 - auc_9: 0.9631 - val_loss: 0.6631 - val_categorical_accuracy: 0.7121 - val_auc_9: 0.8788\n",
      "WARNING:tensorflow:Early stopping conditioned on metric `val_auc` which is not available. Available metrics are: loss,categorical_accuracy,auc_9,val_loss,val_categorical_accuracy,val_auc_9\n",
      "Epoch 33/100\n",
      "5/5 [==============================] - 2s 378ms/step - loss: 0.3245 - categorical_accuracy: 0.8845 - auc_9: 0.9697 - val_loss: 0.4960 - val_categorical_accuracy: 0.7727 - val_auc_9: 0.9337\n",
      "WARNING:tensorflow:Early stopping conditioned on metric `val_auc` which is not available. Available metrics are: loss,categorical_accuracy,auc_9,val_loss,val_categorical_accuracy,val_auc_9\n",
      "Epoch 34/100\n",
      "5/5 [==============================] - 2s 448ms/step - loss: 0.3488 - categorical_accuracy: 0.8725 - auc_9: 0.9647 - val_loss: 0.5514 - val_categorical_accuracy: 0.7424 - val_auc_9: 0.9178\n",
      "WARNING:tensorflow:Early stopping conditioned on metric `val_auc` which is not available. Available metrics are: loss,categorical_accuracy,auc_9,val_loss,val_categorical_accuracy,val_auc_9\n",
      "Epoch 35/100\n",
      "5/5 [==============================] - 2s 353ms/step - loss: 0.2979 - categorical_accuracy: 0.8765 - auc_9: 0.9754 - val_loss: 0.6575 - val_categorical_accuracy: 0.6970 - val_auc_9: 0.8993\n",
      "WARNING:tensorflow:Early stopping conditioned on metric `val_auc` which is not available. Available metrics are: loss,categorical_accuracy,auc_9,val_loss,val_categorical_accuracy,val_auc_9\n",
      "Epoch 36/100\n",
      "5/5 [==============================] - 2s 364ms/step - loss: 0.3808 - categorical_accuracy: 0.8685 - auc_9: 0.9605 - val_loss: 0.4582 - val_categorical_accuracy: 0.7576 - val_auc_9: 0.9386\n",
      "WARNING:tensorflow:Early stopping conditioned on metric `val_auc` which is not available. Available metrics are: loss,categorical_accuracy,auc_9,val_loss,val_categorical_accuracy,val_auc_9\n",
      "Epoch 37/100\n",
      "5/5 [==============================] - 2s 361ms/step - loss: 0.3216 - categorical_accuracy: 0.8685 - auc_9: 0.9713 - val_loss: 1.3948 - val_categorical_accuracy: 0.6061 - val_auc_9: 0.7555\n",
      "WARNING:tensorflow:Early stopping conditioned on metric `val_auc` which is not available. Available metrics are: loss,categorical_accuracy,auc_9,val_loss,val_categorical_accuracy,val_auc_9\n",
      "Epoch 38/100\n",
      "5/5 [==============================] - 2s 432ms/step - loss: 0.5630 - categorical_accuracy: 0.7888 - auc_9: 0.9139 - val_loss: 0.4602 - val_categorical_accuracy: 0.8939 - val_auc_9: 0.9555\n",
      "WARNING:tensorflow:Early stopping conditioned on metric `val_auc` which is not available. Available metrics are: loss,categorical_accuracy,auc_9,val_loss,val_categorical_accuracy,val_auc_9\n",
      "Epoch 39/100\n",
      "5/5 [==============================] - 2s 366ms/step - loss: 0.3553 - categorical_accuracy: 0.8526 - auc_9: 0.9686 - val_loss: 0.5604 - val_categorical_accuracy: 0.7576 - val_auc_9: 0.9193\n",
      "WARNING:tensorflow:Early stopping conditioned on metric `val_auc` which is not available. Available metrics are: loss,categorical_accuracy,auc_9,val_loss,val_categorical_accuracy,val_auc_9\n",
      "Epoch 40/100\n",
      "5/5 [==============================] - 2s 358ms/step - loss: 0.3255 - categorical_accuracy: 0.8805 - auc_9: 0.9720 - val_loss: 0.5947 - val_categorical_accuracy: 0.8182 - val_auc_9: 0.9196\n",
      "WARNING:tensorflow:Early stopping conditioned on metric `val_auc` which is not available. Available metrics are: loss,categorical_accuracy,auc_9,val_loss,val_categorical_accuracy,val_auc_9\n",
      "Epoch 41/100\n",
      "5/5 [==============================] - 2s 438ms/step - loss: 0.5250 - categorical_accuracy: 0.7928 - auc_9: 0.9306 - val_loss: 0.5817 - val_categorical_accuracy: 0.7727 - val_auc_9: 0.9175\n",
      "WARNING:tensorflow:Early stopping conditioned on metric `val_auc` which is not available. Available metrics are: loss,categorical_accuracy,auc_9,val_loss,val_categorical_accuracy,val_auc_9\n",
      "Epoch 42/100\n",
      "5/5 [==============================] - 2s 357ms/step - loss: 0.2964 - categorical_accuracy: 0.9084 - auc_9: 0.9768 - val_loss: 0.6473 - val_categorical_accuracy: 0.8182 - val_auc_9: 0.9105\n",
      "WARNING:tensorflow:Early stopping conditioned on metric `val_auc` which is not available. Available metrics are: loss,categorical_accuracy,auc_9,val_loss,val_categorical_accuracy,val_auc_9\n"
     ]
    },
    {
     "name": "stdout",
     "output_type": "stream",
     "text": [
      "Epoch 43/100\n",
      "5/5 [==============================] - 2s 362ms/step - loss: 0.3284 - categorical_accuracy: 0.8805 - auc_9: 0.9698 - val_loss: 0.6740 - val_categorical_accuracy: 0.7424 - val_auc_9: 0.8969\n",
      "WARNING:tensorflow:Early stopping conditioned on metric `val_auc` which is not available. Available metrics are: loss,categorical_accuracy,auc_9,val_loss,val_categorical_accuracy,val_auc_9\n",
      "Epoch 44/100\n",
      "5/5 [==============================] - 2s 347ms/step - loss: 0.3630 - categorical_accuracy: 0.8645 - auc_9: 0.9634 - val_loss: 0.6262 - val_categorical_accuracy: 0.7576 - val_auc_9: 0.9082\n",
      "WARNING:tensorflow:Early stopping conditioned on metric `val_auc` which is not available. Available metrics are: loss,categorical_accuracy,auc_9,val_loss,val_categorical_accuracy,val_auc_9\n",
      "Epoch 45/100\n",
      "5/5 [==============================] - 2s 363ms/step - loss: 0.3682 - categorical_accuracy: 0.8606 - auc_9: 0.9625 - val_loss: 0.5532 - val_categorical_accuracy: 0.8636 - val_auc_9: 0.9350\n",
      "WARNING:tensorflow:Early stopping conditioned on metric `val_auc` which is not available. Available metrics are: loss,categorical_accuracy,auc_9,val_loss,val_categorical_accuracy,val_auc_9\n",
      "Epoch 46/100\n",
      "5/5 [==============================] - 2s 368ms/step - loss: 0.2863 - categorical_accuracy: 0.9084 - auc_9: 0.9794 - val_loss: 0.5374 - val_categorical_accuracy: 0.8788 - val_auc_9: 0.9403\n",
      "WARNING:tensorflow:Early stopping conditioned on metric `val_auc` which is not available. Available metrics are: loss,categorical_accuracy,auc_9,val_loss,val_categorical_accuracy,val_auc_9\n",
      "Epoch 47/100\n",
      "5/5 [==============================] - 2s 360ms/step - loss: 0.2374 - categorical_accuracy: 0.9163 - auc_9: 0.9857 - val_loss: 0.5176 - val_categorical_accuracy: 0.8788 - val_auc_9: 0.9448\n",
      "WARNING:tensorflow:Early stopping conditioned on metric `val_auc` which is not available. Available metrics are: loss,categorical_accuracy,auc_9,val_loss,val_categorical_accuracy,val_auc_9\n",
      "Epoch 48/100\n",
      "5/5 [==============================] - 2s 350ms/step - loss: 0.2370 - categorical_accuracy: 0.9124 - auc_9: 0.9848 - val_loss: 0.5088 - val_categorical_accuracy: 0.8788 - val_auc_9: 0.9407\n",
      "WARNING:tensorflow:Early stopping conditioned on metric `val_auc` which is not available. Available metrics are: loss,categorical_accuracy,auc_9,val_loss,val_categorical_accuracy,val_auc_9\n",
      "Epoch 49/100\n",
      "5/5 [==============================] - 2s 361ms/step - loss: 0.3383 - categorical_accuracy: 0.8606 - auc_9: 0.9694 - val_loss: 0.5361 - val_categorical_accuracy: 0.9091 - val_auc_9: 0.9513\n",
      "WARNING:tensorflow:Early stopping conditioned on metric `val_auc` which is not available. Available metrics are: loss,categorical_accuracy,auc_9,val_loss,val_categorical_accuracy,val_auc_9\n",
      "Epoch 50/100\n",
      "5/5 [==============================] - 2s 358ms/step - loss: 0.2850 - categorical_accuracy: 0.8884 - auc_9: 0.9791 - val_loss: 0.4862 - val_categorical_accuracy: 0.9242 - val_auc_9: 0.9494\n",
      "WARNING:tensorflow:Early stopping conditioned on metric `val_auc` which is not available. Available metrics are: loss,categorical_accuracy,auc_9,val_loss,val_categorical_accuracy,val_auc_9\n",
      "Epoch 51/100\n",
      "5/5 [==============================] - 2s 370ms/step - loss: 0.2906 - categorical_accuracy: 0.8884 - auc_9: 0.9756 - val_loss: 0.5063 - val_categorical_accuracy: 0.8333 - val_auc_9: 0.9427\n",
      "WARNING:tensorflow:Early stopping conditioned on metric `val_auc` which is not available. Available metrics are: loss,categorical_accuracy,auc_9,val_loss,val_categorical_accuracy,val_auc_9\n",
      "Epoch 52/100\n",
      "5/5 [==============================] - 2s 352ms/step - loss: 0.2580 - categorical_accuracy: 0.9004 - auc_9: 0.9796 - val_loss: 0.4920 - val_categorical_accuracy: 0.8333 - val_auc_9: 0.9416\n",
      "WARNING:tensorflow:Early stopping conditioned on metric `val_auc` which is not available. Available metrics are: loss,categorical_accuracy,auc_9,val_loss,val_categorical_accuracy,val_auc_9\n",
      "Epoch 53/100\n",
      "5/5 [==============================] - 2s 361ms/step - loss: 0.2260 - categorical_accuracy: 0.9084 - auc_9: 0.9858 - val_loss: 0.4781 - val_categorical_accuracy: 0.8788 - val_auc_9: 0.9486\n",
      "WARNING:tensorflow:Early stopping conditioned on metric `val_auc` which is not available. Available metrics are: loss,categorical_accuracy,auc_9,val_loss,val_categorical_accuracy,val_auc_9\n",
      "Epoch 54/100\n",
      "5/5 [==============================] - 2s 360ms/step - loss: 0.2123 - categorical_accuracy: 0.9243 - auc_9: 0.9884 - val_loss: 0.4699 - val_categorical_accuracy: 0.8636 - val_auc_9: 0.9458\n",
      "WARNING:tensorflow:Early stopping conditioned on metric `val_auc` which is not available. Available metrics are: loss,categorical_accuracy,auc_9,val_loss,val_categorical_accuracy,val_auc_9\n",
      "Epoch 55/100\n",
      "5/5 [==============================] - 2s 436ms/step - loss: 0.4067 - categorical_accuracy: 0.8327 - auc_9: 0.9592 - val_loss: 0.6757 - val_categorical_accuracy: 0.7576 - val_auc_9: 0.9218\n",
      "WARNING:tensorflow:Early stopping conditioned on metric `val_auc` which is not available. Available metrics are: loss,categorical_accuracy,auc_9,val_loss,val_categorical_accuracy,val_auc_9\n",
      "Epoch 56/100\n",
      "5/5 [==============================] - 2s 437ms/step - loss: 0.2754 - categorical_accuracy: 0.8884 - auc_9: 0.9796 - val_loss: 0.6304 - val_categorical_accuracy: 0.8485 - val_auc_9: 0.9367\n",
      "WARNING:tensorflow:Early stopping conditioned on metric `val_auc` which is not available. Available metrics are: loss,categorical_accuracy,auc_9,val_loss,val_categorical_accuracy,val_auc_9\n",
      "Epoch 57/100\n",
      "5/5 [==============================] - 2s 362ms/step - loss: 0.2588 - categorical_accuracy: 0.9084 - auc_9: 0.9813 - val_loss: 0.5038 - val_categorical_accuracy: 0.8636 - val_auc_9: 0.9448\n",
      "WARNING:tensorflow:Early stopping conditioned on metric `val_auc` which is not available. Available metrics are: loss,categorical_accuracy,auc_9,val_loss,val_categorical_accuracy,val_auc_9\n",
      "Epoch 58/100\n",
      "5/5 [==============================] - 2s 362ms/step - loss: 0.2111 - categorical_accuracy: 0.9163 - auc_9: 0.9873 - val_loss: 0.6023 - val_categorical_accuracy: 0.7424 - val_auc_9: 0.9214\n",
      "WARNING:tensorflow:Early stopping conditioned on metric `val_auc` which is not available. Available metrics are: loss,categorical_accuracy,auc_9,val_loss,val_categorical_accuracy,val_auc_9\n",
      "Epoch 59/100\n",
      "5/5 [==============================] - 2s 361ms/step - loss: 0.2207 - categorical_accuracy: 0.9363 - auc_9: 0.9835 - val_loss: 0.5399 - val_categorical_accuracy: 0.8030 - val_auc_9: 0.9335\n",
      "WARNING:tensorflow:Early stopping conditioned on metric `val_auc` which is not available. Available metrics are: loss,categorical_accuracy,auc_9,val_loss,val_categorical_accuracy,val_auc_9\n",
      "Epoch 60/100\n",
      "5/5 [==============================] - 2s 436ms/step - loss: 0.1779 - categorical_accuracy: 0.9363 - auc_9: 0.9922 - val_loss: 0.5568 - val_categorical_accuracy: 0.7879 - val_auc_9: 0.9281\n",
      "WARNING:tensorflow:Early stopping conditioned on metric `val_auc` which is not available. Available metrics are: loss,categorical_accuracy,auc_9,val_loss,val_categorical_accuracy,val_auc_9\n",
      "Epoch 61/100\n",
      "5/5 [==============================] - 2s 359ms/step - loss: 0.1872 - categorical_accuracy: 0.9323 - auc_9: 0.9902 - val_loss: 0.5627 - val_categorical_accuracy: 0.8030 - val_auc_9: 0.9252\n",
      "WARNING:tensorflow:Early stopping conditioned on metric `val_auc` which is not available. Available metrics are: loss,categorical_accuracy,auc_9,val_loss,val_categorical_accuracy,val_auc_9\n",
      "Epoch 62/100\n",
      "5/5 [==============================] - 2s 360ms/step - loss: 0.1744 - categorical_accuracy: 0.9442 - auc_9: 0.9913 - val_loss: 0.5618 - val_categorical_accuracy: 0.8030 - val_auc_9: 0.9289\n",
      "WARNING:tensorflow:Early stopping conditioned on metric `val_auc` which is not available. Available metrics are: loss,categorical_accuracy,auc_9,val_loss,val_categorical_accuracy,val_auc_9\n",
      "Epoch 63/100\n",
      "5/5 [==============================] - 2s 360ms/step - loss: 0.2046 - categorical_accuracy: 0.9283 - auc_9: 0.9861 - val_loss: 0.5339 - val_categorical_accuracy: 0.8030 - val_auc_9: 0.9315\n",
      "WARNING:tensorflow:Early stopping conditioned on metric `val_auc` which is not available. Available metrics are: loss,categorical_accuracy,auc_9,val_loss,val_categorical_accuracy,val_auc_9\n"
     ]
    },
    {
     "name": "stdout",
     "output_type": "stream",
     "text": [
      "Epoch 64/100\n",
      "5/5 [==============================] - 2s 430ms/step - loss: 0.2272 - categorical_accuracy: 0.9124 - auc_9: 0.9856 - val_loss: 0.4937 - val_categorical_accuracy: 0.8636 - val_auc_9: 0.9419\n",
      "WARNING:tensorflow:Early stopping conditioned on metric `val_auc` which is not available. Available metrics are: loss,categorical_accuracy,auc_9,val_loss,val_categorical_accuracy,val_auc_9\n",
      "Epoch 65/100\n",
      "5/5 [==============================] - 2s 363ms/step - loss: 0.1989 - categorical_accuracy: 0.9243 - auc_9: 0.9881 - val_loss: 0.3960 - val_categorical_accuracy: 0.8182 - val_auc_9: 0.9570\n",
      "WARNING:tensorflow:Early stopping conditioned on metric `val_auc` which is not available. Available metrics are: loss,categorical_accuracy,auc_9,val_loss,val_categorical_accuracy,val_auc_9\n",
      "Epoch 66/100\n",
      "5/5 [==============================] - 2s 350ms/step - loss: 0.1838 - categorical_accuracy: 0.9283 - auc_9: 0.9881 - val_loss: 0.3539 - val_categorical_accuracy: 0.8485 - val_auc_9: 0.9688\n",
      "WARNING:tensorflow:Early stopping conditioned on metric `val_auc` which is not available. Available metrics are: loss,categorical_accuracy,auc_9,val_loss,val_categorical_accuracy,val_auc_9\n",
      "Epoch 67/100\n",
      "5/5 [==============================] - 2s 371ms/step - loss: 0.2113 - categorical_accuracy: 0.9283 - auc_9: 0.9872 - val_loss: 0.4530 - val_categorical_accuracy: 0.7879 - val_auc_9: 0.9508\n",
      "WARNING:tensorflow:Early stopping conditioned on metric `val_auc` which is not available. Available metrics are: loss,categorical_accuracy,auc_9,val_loss,val_categorical_accuracy,val_auc_9\n",
      "Epoch 68/100\n",
      "5/5 [==============================] - 2s 379ms/step - loss: 0.1740 - categorical_accuracy: 0.9283 - auc_9: 0.9917 - val_loss: 0.4197 - val_categorical_accuracy: 0.8636 - val_auc_9: 0.9527\n",
      "WARNING:tensorflow:Early stopping conditioned on metric `val_auc` which is not available. Available metrics are: loss,categorical_accuracy,auc_9,val_loss,val_categorical_accuracy,val_auc_9\n",
      "Epoch 69/100\n",
      "5/5 [==============================] - 2s 364ms/step - loss: 0.1635 - categorical_accuracy: 0.9442 - auc_9: 0.9920 - val_loss: 0.4315 - val_categorical_accuracy: 0.8788 - val_auc_9: 0.9516\n",
      "WARNING:tensorflow:Early stopping conditioned on metric `val_auc` which is not available. Available metrics are: loss,categorical_accuracy,auc_9,val_loss,val_categorical_accuracy,val_auc_9\n",
      "Epoch 70/100\n",
      "5/5 [==============================] - 2s 347ms/step - loss: 0.1615 - categorical_accuracy: 0.9482 - auc_9: 0.9922 - val_loss: 0.4765 - val_categorical_accuracy: 0.8333 - val_auc_9: 0.9500\n",
      "WARNING:tensorflow:Early stopping conditioned on metric `val_auc` which is not available. Available metrics are: loss,categorical_accuracy,auc_9,val_loss,val_categorical_accuracy,val_auc_9\n",
      "Epoch 71/100\n",
      "5/5 [==============================] - 2s 346ms/step - loss: 0.1741 - categorical_accuracy: 0.9363 - auc_9: 0.9912 - val_loss: 0.4392 - val_categorical_accuracy: 0.8333 - val_auc_9: 0.9567\n",
      "WARNING:tensorflow:Early stopping conditioned on metric `val_auc` which is not available. Available metrics are: loss,categorical_accuracy,auc_9,val_loss,val_categorical_accuracy,val_auc_9\n",
      "Epoch 72/100\n",
      "5/5 [==============================] - 2s 363ms/step - loss: 0.1630 - categorical_accuracy: 0.9402 - auc_9: 0.9903 - val_loss: 0.3613 - val_categorical_accuracy: 0.9091 - val_auc_9: 0.9678\n",
      "WARNING:tensorflow:Early stopping conditioned on metric `val_auc` which is not available. Available metrics are: loss,categorical_accuracy,auc_9,val_loss,val_categorical_accuracy,val_auc_9\n",
      "Epoch 73/100\n",
      "5/5 [==============================] - 2s 361ms/step - loss: 0.1755 - categorical_accuracy: 0.9363 - auc_9: 0.9900 - val_loss: 0.4979 - val_categorical_accuracy: 0.8182 - val_auc_9: 0.9462\n",
      "WARNING:tensorflow:Early stopping conditioned on metric `val_auc` which is not available. Available metrics are: loss,categorical_accuracy,auc_9,val_loss,val_categorical_accuracy,val_auc_9\n",
      "Epoch 74/100\n",
      "5/5 [==============================] - 2s 364ms/step - loss: 0.1949 - categorical_accuracy: 0.9323 - auc_9: 0.9889 - val_loss: 0.4378 - val_categorical_accuracy: 0.8030 - val_auc_9: 0.9548\n",
      "WARNING:tensorflow:Early stopping conditioned on metric `val_auc` which is not available. Available metrics are: loss,categorical_accuracy,auc_9,val_loss,val_categorical_accuracy,val_auc_9\n",
      "Epoch 75/100\n",
      "5/5 [==============================] - 2s 350ms/step - loss: 0.1529 - categorical_accuracy: 0.9323 - auc_9: 0.9939 - val_loss: 0.4012 - val_categorical_accuracy: 0.9091 - val_auc_9: 0.9578\n",
      "WARNING:tensorflow:Early stopping conditioned on metric `val_auc` which is not available. Available metrics are: loss,categorical_accuracy,auc_9,val_loss,val_categorical_accuracy,val_auc_9\n",
      "Epoch 76/100\n",
      "5/5 [==============================] - 2s 362ms/step - loss: 0.1267 - categorical_accuracy: 0.9482 - auc_9: 0.9960 - val_loss: 0.4434 - val_categorical_accuracy: 0.8333 - val_auc_9: 0.9553\n",
      "WARNING:tensorflow:Early stopping conditioned on metric `val_auc` which is not available. Available metrics are: loss,categorical_accuracy,auc_9,val_loss,val_categorical_accuracy,val_auc_9\n",
      "Epoch 77/100\n",
      "5/5 [==============================] - 2s 368ms/step - loss: 0.1800 - categorical_accuracy: 0.9203 - auc_9: 0.9911 - val_loss: 0.4305 - val_categorical_accuracy: 0.8636 - val_auc_9: 0.9558\n",
      "WARNING:tensorflow:Early stopping conditioned on metric `val_auc` which is not available. Available metrics are: loss,categorical_accuracy,auc_9,val_loss,val_categorical_accuracy,val_auc_9\n",
      "Epoch 78/100\n",
      "5/5 [==============================] - 2s 368ms/step - loss: 0.1251 - categorical_accuracy: 0.9602 - auc_9: 0.9955 - val_loss: 0.3923 - val_categorical_accuracy: 0.8939 - val_auc_9: 0.9619\n",
      "WARNING:tensorflow:Early stopping conditioned on metric `val_auc` which is not available. Available metrics are: loss,categorical_accuracy,auc_9,val_loss,val_categorical_accuracy,val_auc_9\n",
      "Epoch 79/100\n",
      "5/5 [==============================] - 2s 365ms/step - loss: 0.1019 - categorical_accuracy: 0.9562 - auc_9: 0.9973 - val_loss: 0.4011 - val_categorical_accuracy: 0.8636 - val_auc_9: 0.9586\n",
      "WARNING:tensorflow:Early stopping conditioned on metric `val_auc` which is not available. Available metrics are: loss,categorical_accuracy,auc_9,val_loss,val_categorical_accuracy,val_auc_9\n",
      "Epoch 80/100\n",
      "5/5 [==============================] - 2s 352ms/step - loss: 0.1398 - categorical_accuracy: 0.9442 - auc_9: 0.9947 - val_loss: 0.3541 - val_categorical_accuracy: 0.9242 - val_auc_9: 0.9618\n",
      "WARNING:tensorflow:Early stopping conditioned on metric `val_auc` which is not available. Available metrics are: loss,categorical_accuracy,auc_9,val_loss,val_categorical_accuracy,val_auc_9\n",
      "Epoch 81/100\n",
      "5/5 [==============================] - 2s 369ms/step - loss: 0.1304 - categorical_accuracy: 0.9442 - auc_9: 0.9956 - val_loss: 0.3920 - val_categorical_accuracy: 0.8485 - val_auc_9: 0.9606\n",
      "WARNING:tensorflow:Early stopping conditioned on metric `val_auc` which is not available. Available metrics are: loss,categorical_accuracy,auc_9,val_loss,val_categorical_accuracy,val_auc_9\n",
      "Epoch 82/100\n",
      "5/5 [==============================] - 2s 367ms/step - loss: 0.1241 - categorical_accuracy: 0.9641 - auc_9: 0.9952 - val_loss: 0.3973 - val_categorical_accuracy: 0.8485 - val_auc_9: 0.9607\n",
      "WARNING:tensorflow:Early stopping conditioned on metric `val_auc` which is not available. Available metrics are: loss,categorical_accuracy,auc_9,val_loss,val_categorical_accuracy,val_auc_9\n",
      "Epoch 83/100\n",
      "5/5 [==============================] - 2s 359ms/step - loss: 0.0864 - categorical_accuracy: 0.9681 - auc_9: 0.9977 - val_loss: 0.3795 - val_categorical_accuracy: 0.8788 - val_auc_9: 0.9617\n",
      "WARNING:tensorflow:Early stopping conditioned on metric `val_auc` which is not available. Available metrics are: loss,categorical_accuracy,auc_9,val_loss,val_categorical_accuracy,val_auc_9\n",
      "Epoch 84/100\n",
      "5/5 [==============================] - 2s 358ms/step - loss: 0.1397 - categorical_accuracy: 0.9562 - auc_9: 0.9916 - val_loss: 0.3587 - val_categorical_accuracy: 0.9242 - val_auc_9: 0.9671\n",
      "WARNING:tensorflow:Early stopping conditioned on metric `val_auc` which is not available. Available metrics are: loss,categorical_accuracy,auc_9,val_loss,val_categorical_accuracy,val_auc_9\n"
     ]
    },
    {
     "name": "stdout",
     "output_type": "stream",
     "text": [
      "Epoch 85/100\n",
      "5/5 [==============================] - 2s 462ms/step - loss: 0.1122 - categorical_accuracy: 0.9522 - auc_9: 0.9967 - val_loss: 0.3539 - val_categorical_accuracy: 0.8788 - val_auc_9: 0.9650\n",
      "WARNING:tensorflow:Early stopping conditioned on metric `val_auc` which is not available. Available metrics are: loss,categorical_accuracy,auc_9,val_loss,val_categorical_accuracy,val_auc_9\n",
      "Epoch 86/100\n",
      "5/5 [==============================] - 2s 365ms/step - loss: 0.1556 - categorical_accuracy: 0.9482 - auc_9: 0.9924 - val_loss: 0.3397 - val_categorical_accuracy: 0.9091 - val_auc_9: 0.9718\n",
      "WARNING:tensorflow:Early stopping conditioned on metric `val_auc` which is not available. Available metrics are: loss,categorical_accuracy,auc_9,val_loss,val_categorical_accuracy,val_auc_9\n",
      "Epoch 87/100\n",
      "5/5 [==============================] - 2s 367ms/step - loss: 0.1163 - categorical_accuracy: 0.9602 - auc_9: 0.9960 - val_loss: 0.3429 - val_categorical_accuracy: 0.9091 - val_auc_9: 0.9681\n",
      "WARNING:tensorflow:Early stopping conditioned on metric `val_auc` which is not available. Available metrics are: loss,categorical_accuracy,auc_9,val_loss,val_categorical_accuracy,val_auc_9\n",
      "Epoch 88/100\n",
      "5/5 [==============================] - 2s 366ms/step - loss: 0.1410 - categorical_accuracy: 0.9402 - auc_9: 0.9944 - val_loss: 0.3448 - val_categorical_accuracy: 0.8788 - val_auc_9: 0.9713\n",
      "WARNING:tensorflow:Early stopping conditioned on metric `val_auc` which is not available. Available metrics are: loss,categorical_accuracy,auc_9,val_loss,val_categorical_accuracy,val_auc_9\n",
      "Epoch 89/100\n",
      "5/5 [==============================] - 2s 362ms/step - loss: 0.1055 - categorical_accuracy: 0.9602 - auc_9: 0.9970 - val_loss: 0.3253 - val_categorical_accuracy: 0.9091 - val_auc_9: 0.9753\n",
      "WARNING:tensorflow:Early stopping conditioned on metric `val_auc` which is not available. Available metrics are: loss,categorical_accuracy,auc_9,val_loss,val_categorical_accuracy,val_auc_9\n",
      "Epoch 90/100\n",
      "5/5 [==============================] - 2s 360ms/step - loss: 0.1185 - categorical_accuracy: 0.9562 - auc_9: 0.9962 - val_loss: 0.5144 - val_categorical_accuracy: 0.8333 - val_auc_9: 0.9419\n",
      "WARNING:tensorflow:Early stopping conditioned on metric `val_auc` which is not available. Available metrics are: loss,categorical_accuracy,auc_9,val_loss,val_categorical_accuracy,val_auc_9\n",
      "Epoch 91/100\n",
      "5/5 [==============================] - 2s 364ms/step - loss: 0.2756 - categorical_accuracy: 0.9163 - auc_9: 0.9776 - val_loss: 0.4560 - val_categorical_accuracy: 0.8939 - val_auc_9: 0.9621\n",
      "WARNING:tensorflow:Early stopping conditioned on metric `val_auc` which is not available. Available metrics are: loss,categorical_accuracy,auc_9,val_loss,val_categorical_accuracy,val_auc_9\n",
      "Epoch 92/100\n",
      "5/5 [==============================] - 2s 438ms/step - loss: 0.1962 - categorical_accuracy: 0.9402 - auc_9: 0.9871 - val_loss: 0.5001 - val_categorical_accuracy: 0.8636 - val_auc_9: 0.9505\n",
      "WARNING:tensorflow:Early stopping conditioned on metric `val_auc` which is not available. Available metrics are: loss,categorical_accuracy,auc_9,val_loss,val_categorical_accuracy,val_auc_9\n",
      "Epoch 93/100\n",
      "5/5 [==============================] - 2s 364ms/step - loss: 0.1446 - categorical_accuracy: 0.9482 - auc_9: 0.9914 - val_loss: 0.4929 - val_categorical_accuracy: 0.8788 - val_auc_9: 0.9477\n",
      "WARNING:tensorflow:Early stopping conditioned on metric `val_auc` which is not available. Available metrics are: loss,categorical_accuracy,auc_9,val_loss,val_categorical_accuracy,val_auc_9\n",
      "Epoch 94/100\n",
      "5/5 [==============================] - 2s 366ms/step - loss: 0.1572 - categorical_accuracy: 0.9363 - auc_9: 0.9930 - val_loss: 0.4894 - val_categorical_accuracy: 0.8788 - val_auc_9: 0.9480\n",
      "WARNING:tensorflow:Early stopping conditioned on metric `val_auc` which is not available. Available metrics are: loss,categorical_accuracy,auc_9,val_loss,val_categorical_accuracy,val_auc_9\n",
      "Epoch 95/100\n",
      "5/5 [==============================] - 2s 346ms/step - loss: 0.1384 - categorical_accuracy: 0.9482 - auc_9: 0.9946 - val_loss: 0.4710 - val_categorical_accuracy: 0.8636 - val_auc_9: 0.9473\n",
      "WARNING:tensorflow:Early stopping conditioned on metric `val_auc` which is not available. Available metrics are: loss,categorical_accuracy,auc_9,val_loss,val_categorical_accuracy,val_auc_9\n",
      "Epoch 96/100\n",
      "5/5 [==============================] - 2s 360ms/step - loss: 0.1366 - categorical_accuracy: 0.9482 - auc_9: 0.9951 - val_loss: 0.3761 - val_categorical_accuracy: 0.8939 - val_auc_9: 0.9632\n",
      "WARNING:tensorflow:Early stopping conditioned on metric `val_auc` which is not available. Available metrics are: loss,categorical_accuracy,auc_9,val_loss,val_categorical_accuracy,val_auc_9\n",
      "Epoch 97/100\n",
      "5/5 [==============================] - 2s 362ms/step - loss: 0.1945 - categorical_accuracy: 0.9283 - auc_9: 0.9888 - val_loss: 0.9277 - val_categorical_accuracy: 0.7121 - val_auc_9: 0.8980\n",
      "WARNING:tensorflow:Early stopping conditioned on metric `val_auc` which is not available. Available metrics are: loss,categorical_accuracy,auc_9,val_loss,val_categorical_accuracy,val_auc_9\n",
      "Epoch 98/100\n",
      "5/5 [==============================] - 2s 363ms/step - loss: 0.2593 - categorical_accuracy: 0.8964 - auc_9: 0.9829 - val_loss: 0.5363 - val_categorical_accuracy: 0.9091 - val_auc_9: 0.9461\n",
      "WARNING:tensorflow:Early stopping conditioned on metric `val_auc` which is not available. Available metrics are: loss,categorical_accuracy,auc_9,val_loss,val_categorical_accuracy,val_auc_9\n",
      "Epoch 99/100\n",
      "5/5 [==============================] - 2s 366ms/step - loss: 0.2440 - categorical_accuracy: 0.9004 - auc_9: 0.9822 - val_loss: 0.5472 - val_categorical_accuracy: 0.8939 - val_auc_9: 0.9480\n",
      "WARNING:tensorflow:Early stopping conditioned on metric `val_auc` which is not available. Available metrics are: loss,categorical_accuracy,auc_9,val_loss,val_categorical_accuracy,val_auc_9\n",
      "Epoch 100/100\n",
      "5/5 [==============================] - 2s 361ms/step - loss: 0.1854 - categorical_accuracy: 0.9163 - auc_9: 0.9906 - val_loss: 0.6200 - val_categorical_accuracy: 0.8030 - val_auc_9: 0.9333\n",
      "WARNING:tensorflow:Early stopping conditioned on metric `val_auc` which is not available. Available metrics are: loss,categorical_accuracy,auc_9,val_loss,val_categorical_accuracy,val_auc_9\n"
     ]
    }
   ],
   "source": [
    "history = model.fit(training_iterator,steps_per_epoch=training_iterator.samples/BATCH_SIZE,epochs = 100,validation_data=validation_iterator,validation_steps=validation_iterator.samples/BATCH_SIZE,callbacks=[es])"
   ]
  },
  {
   "cell_type": "code",
   "execution_count": 196,
   "metadata": {},
   "outputs": [
    {
     "ename": "KeyError",
     "evalue": "'val_auc'",
     "output_type": "error",
     "traceback": [
      "\u001b[0;31m---------------------------------------------------------------------------\u001b[0m",
      "\u001b[0;31mKeyError\u001b[0m                                  Traceback (most recent call last)",
      "\u001b[0;32m<ipython-input-196-10367c21d472>\u001b[0m in \u001b[0;36m<module>\u001b[0;34m\u001b[0m\n\u001b[1;32m     11\u001b[0m \u001b[0;31m# plotting auc and validation auc over epochs\u001b[0m\u001b[0;34m\u001b[0m\u001b[0;34m\u001b[0m\u001b[0;34m\u001b[0m\u001b[0m\n\u001b[1;32m     12\u001b[0m \u001b[0max2\u001b[0m \u001b[0;34m=\u001b[0m \u001b[0mfig\u001b[0m\u001b[0;34m.\u001b[0m\u001b[0madd_subplot\u001b[0m\u001b[0;34m(\u001b[0m\u001b[0;36m2\u001b[0m\u001b[0;34m,\u001b[0m \u001b[0;36m1\u001b[0m\u001b[0;34m,\u001b[0m \u001b[0;36m2\u001b[0m\u001b[0;34m)\u001b[0m\u001b[0;34m\u001b[0m\u001b[0;34m\u001b[0m\u001b[0m\n\u001b[0;32m---> 13\u001b[0;31m \u001b[0max2\u001b[0m\u001b[0;34m.\u001b[0m\u001b[0mplot\u001b[0m\u001b[0;34m(\u001b[0m\u001b[0mhistory\u001b[0m\u001b[0;34m.\u001b[0m\u001b[0mhistory\u001b[0m\u001b[0;34m[\u001b[0m\u001b[0;34m'val_auc'\u001b[0m\u001b[0;34m]\u001b[0m\u001b[0;34m)\u001b[0m\u001b[0;34m\u001b[0m\u001b[0;34m\u001b[0m\u001b[0m\n\u001b[0m\u001b[1;32m     14\u001b[0m \u001b[0max2\u001b[0m\u001b[0;34m.\u001b[0m\u001b[0mset_title\u001b[0m\u001b[0;34m(\u001b[0m\u001b[0;34m'model auc'\u001b[0m\u001b[0;34m)\u001b[0m\u001b[0;34m\u001b[0m\u001b[0;34m\u001b[0m\u001b[0m\n\u001b[1;32m     15\u001b[0m \u001b[0max2\u001b[0m\u001b[0;34m.\u001b[0m\u001b[0mset_xlabel\u001b[0m\u001b[0;34m(\u001b[0m\u001b[0;34m'epoch'\u001b[0m\u001b[0;34m)\u001b[0m\u001b[0;34m\u001b[0m\u001b[0;34m\u001b[0m\u001b[0m\n",
      "\u001b[0;31mKeyError\u001b[0m: 'val_auc'"
     ]
    },
    {
     "data": {
      "image/png": "[encoded data removed]",
      "text/plain": [
       "<Figure size 432x288 with 2 Axes>"
      ]
     },
     "metadata": {
      "needs_background": "light"
     },
     "output_type": "display_data"
    }
   ],
   "source": [
    "# plotting categorical and validation accuracy over epochs\n",
    "fig = plt.figure()\n",
    "ax1 = fig.add_subplot(2, 1, 1)\n",
    "ax1.plot(history.history['categorical_accuracy'])\n",
    "ax1.plot(history.history['val_categorical_accuracy'])\n",
    "ax1.set_title('model accuracy')\n",
    "ax1.set_xlabel('epoch')\n",
    "ax1.set_ylabel('accuracy')\n",
    "ax1.legend(['train', 'validation'], loc='upper left')\n",
    "\n",
    "# plotting auc and validation auc over epochs\n",
    "ax2 = fig.add_subplot(2, 1, 2)\n",
    "ax2.plot(history.history['val_auc'])\n",
    "ax2.set_title('model auc')\n",
    "ax2.set_xlabel('epoch')\n",
    "ax2.set_ylabel('auc')\n",
    "ax2.legend(['train', 'validation'], loc='upper left')\n",
    "\n",
    "plt.show()"
   ]
  },
  {
   "cell_type": "code",
   "execution_count": null,
   "metadata": {},
   "outputs": [],
   "source": []
  }
 ],
 "metadata": {
  "kernelspec": {
   "display_name": "Python 3",
   "language": "python",
   "name": "python3"
  },
  "language_info": {
   "codemirror_mode": {
    "name": "ipython",
    "version": 3
   },
   "file_extension": ".py",
   "mimetype": "text/x-python",
   "name": "python",
   "nbconvert_exporter": "python",
   "pygments_lexer": "ipython3",
   "version": "3.8.5"
  }
 },
 "nbformat": 4,
 "nbformat_minor": 4
}
